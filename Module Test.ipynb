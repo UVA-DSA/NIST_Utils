{
 "cells": [
  {
   "cell_type": "code",
   "execution_count": 18,
   "metadata": {
    "collapsed": true
   },
   "outputs": [],
   "source": [
    "import py_trees\n",
    "import behaviours as be\n",
    "from py_trees.blackboard import Blackboard\n",
    "import pandas as pd"
   ]
  },
  {
   "cell_type": "code",
   "execution_count": 13,
   "metadata": {
    "collapsed": true
   },
   "outputs": [],
   "source": [
    "def pre_tick_handler(behaviour_tree):\n",
    "    blackboard = Blackboard()\n",
    "    blackboard.tick_num += 1"
   ]
  },
  {
   "cell_type": "code",
   "execution_count": 19,
   "metadata": {
    "collapsed": true
   },
   "outputs": [],
   "source": [
    "targets = ['Chest Pain','Respiratory distress/Asthma/COPD/Pneumonia/Reactive airway',\\\n",
    "           'General Trauma Management','Head Trauma','BLSCPR','Burns/Thermal','BleedingControl']\n",
    "df = pd.read_excel('/Users/sileshu/Desktop/EMSdata/RAA Data_protocol.xlsx')\n",
    "texts = {}\n",
    "for item in df.iterrows():\n",
    "    if item[1]['Protocol'] in targets:\n",
    "        texts[item[1]['Narrative']] = item[1]['Protocol']\n",
    "mapping = {'General Trauma Management':'GeneralTraumaManagement',\n",
    "           'Respiratory distress/Asthma/COPD/Pneumonia/Reactive airway':'RespiratoryDistress',\n",
    "           'Chest Pain':\"ChestPain\",\n",
    "           'Head Trauma':'GeneralTraumaManagement',\n",
    "          'Burns/Thermal':'Burn',\n",
    "          'BLSCPR':'BLSCPR'}"
   ]
  },
  {
   "cell_type": "code",
   "execution_count": 55,
   "metadata": {
    "collapsed": true
   },
   "outputs": [],
   "source": [
    "m = []\n",
    "foo = open('interventions.txt')\n",
    "for line in foo:\n",
    "    a = line.split(':')\n",
    "    m.append([i.strip().lower() for i in a[1].strip().split(',')])\n",
    "foo.close()"
   ]
  },
  {
   "cell_type": "code",
   "execution_count": 56,
   "metadata": {},
   "outputs": [
    {
     "name": "stdout",
     "output_type": "stream",
     "text": [
      "aspirin\n",
      "nitroglycerin\n",
      "morphine\n",
      "patient restraint\n",
      "nitronox\n",
      "acetaminophen\n",
      "nonsteroidal\n",
      "toradol\n",
      "morphine sulfate\n",
      "capnography\n",
      "bvm ventilation\n",
      "albuterol\n",
      "ipratoprium\n",
      "dexamethsaone\n",
      "cpap\n",
      "magnesium sulfate\n",
      "epinephrine\n"
     ]
    }
   ],
   "source": [
    "for idx,i in enumerate(m):\n",
    "    temp = []\n",
    "    for item in m:\n",
    "        if item == i:\n",
    "            continue\n",
    "        temp += item\n",
    "    for j in i:\n",
    "        if j not in temp:\n",
    "            print j\n",
    "        "
   ]
  },
  {
   "cell_type": "code",
   "execution_count": 36,
   "metadata": {
    "collapsed": true
   },
   "outputs": [],
   "source": [
    "def annotator(cc, calltype, interventions):\n",
    "    res = ''\n",
    "    cc2protocol = {\n",
    "     '<Patient Refused Care / AMA>':'General Patient Care',\n",
    "     'Abdominal Pain':'Abdominal Pain',\n",
    "     'Allergic Reaction':'Allergic Reaction/Anaphylaxis',\n",
    "     'Altered Consciousness':'Altered Mental Status',\n",
    "     'Atraumatic Bleeding Describe Type and Area':'General Trauma Management',\n",
    "     'Back Pain':'General Pain Management',\n",
    "     'Behavioral':'Behavioral/Patient Restraint/Acute Phychological Agitation',\n",
    "     'Burns':'Burns/Thermal',\n",
    "     'COPD':'Respiratory distress/Asthma/COPD/Pneumonia/Reactive airway',\n",
    "     'CVA/TIA':'Stroke/TIA',\n",
    "     'Cardiac Arrest':'BLSCPR',\n",
    "     'Chest Pain':'Chest Pain',\n",
    "     'Convulsions/Seizures':'Seizure',\n",
    "     'Diabetic':'Diabetic/Hypoglycemia',\n",
    "     'GI Bleed/Problem':'General Trauma Management',\n",
    "     'General Illness':'General Patient Care',\n",
    "     'Hallucinations':'Altered Mental Status',\n",
    "     'Headache':'General Patient Care',\n",
    "     'Heat/Cold Exposure':'Heat Stroke/Hyperthermia',\n",
    "     'OB/GYN':'???',\n",
    "     'Other (MUST add detail note)':'General Patient Care',\n",
    "     'Pain':'General Pain Management',\n",
    "     'Palpitations':'Altered Mental Status',\n",
    "     'Poisoning/Overdose':'Overdose/Poisoning/Toxic Ingestion',\n",
    "     'Psychiatric Problems':'Behavioral/Patient Restraint/Acute Phychological Agitation',\n",
    "     'Psychiatric/ Behavioral Problems':'Behavioral/Patient Restraint/Acute Phychological Agitation',\n",
    "     'Respi':'Respiratory distress/Asthma/COPD/Pneumonia/Reactive airway',\n",
    "     'Respiratory':'Respiratory distress/Asthma/COPD/Pneumonia/Reactive airway',\n",
    "     'Respiratory Arrest':'Respiratory distress/Asthma/COPD/Pneumonia/Reactive airway',\n",
    "     'Seizures/Convulsions':'Seizure',\n",
    "     'Shock':'BLSCPR',\n",
    "     'Trauma':'General Trauma Management'}\n",
    "    calltype2protocol = {\n",
    "     'Traumatic Injury':'General Trauma Management',\n",
    "     'Diabetic Problems':'???',\n",
    "     'Back Pain':'General Pain Management',\n",
    "     'Fall(s)':'General Trauma Management',\n",
    "     'Syncope/Unconscious':'Altered Mental Status',\n",
    "     'Breathing Problems':'Respiratory distress/Asthma/COPD/Pneumonia/Reactive airway',\n",
    "     'Cardiac/Resp Arrest':'Pulmonary Edema/CHF',\n",
    "     'Heart Problems':'Ventricular Fibrillation/Pulseless Ventricular Tachycardia',\n",
    "     'Headache':'General Patient Care',\n",
    "     'Allergic Reaction':'Allergic Reaction/Anaphylaxis',\n",
    "     'Assault/Rape':'???',\n",
    "     'Pregnancy/Childbirth':'???',\n",
    "     'Seizure/Convulsion':'Seizure',\n",
    "     'Shooting/Stabbing':'General Trauma Management',\n",
    "     'Hemorhage/Lacerations':'General Trauma Management',\n",
    "     'Stroke/CVA':'Stroke/TIA',\n",
    "     'Abdominal Pain':'Abdominal Pain',\n",
    "     'Helicopter Landing':'General Trauma Management',\n",
    "     'MVA':'General Trauma Management',\n",
    "     'Chest Pain':'Chest Pain',\n",
    "     'Overdose/Poisoning':'Overdose/Poisoning/Toxic Ingestion',\n",
    "     'Sick Person':'General Patient Care',\n",
    "     'Psychiatric/Suicide Attempt':'Behavioral/Patient Restraint/Acute Phychological Agitation',\n",
    "     'Unknown Problem':'???',\n",
    "     'Burn(s)':'Burns/Thermal'\n",
    "    }\n",
    "    impression2protocol = {u'Abuse of Alcohol - Withdrawal - PCR': u'Alcohol Related Emergencies',\n",
    " u'Abuse of Sedative, Hypnotic or Anxiolytic - PCR': u'Overdose/Poisoning/Toxic Ingestion',\n",
    " u'Behavioral - Depression - PCR': u'Respiratory distress/Asthma/COPD/Pneumonia/Reactive airway',\n",
    " u'Behavioral - Violent - PCR': u'Behavioral/Patient Restraint/Acute Phychological Agitation',\n",
    " u'Bleeding or Hematoma from Procedure/Medical Device - PCR': u'General Trauma Management',\n",
    " u'Burn - Second degree - PCR': u'Burns/Thermal',\n",
    " u'CV - Chest Pain - Angina - PCR': u'Chest Pain',\n",
    " u'CV - Chest Pain - Myocardial Infarction - PCR': u'Chest Pain',\n",
    " u'CV - Chest Pain - Presumed Cardiac - PCR': u'Respiratory distress/Asthma/COPD/Pneumonia/Reactive airway',\n",
    " u'CV - Chest Pain - STEMI of Anterior Wall - PCR': u'Chest Pain',\n",
    " u'CV - Chest Pain - STEMI of other sites - PCR': u'Chest Pain',\n",
    " u'CV - Congestive Heart Failure (CHF) - PCR': u'Pulmonary Edema/CHF',\n",
    " u'Environment - Heat Exhaustion - PCR': u'Heat Stroke/Hyperthermia',\n",
    " u'Environment - Heatstroke - PCR': u'Heat Stroke/Hyperthermia',\n",
    " u'Environment - Poisoning/Drug Ingestion - PCR': u'Overdose/Poisoning/Toxic Ingestion',\n",
    " u'Environment - Stings/Venomous Bites - PCR': u'Allergic Reaction/Anaphylaxis',\n",
    " u'GI/GU - Abdominal Pain Acute Onset - PCR': u'Chest Pain',\n",
    " u'GI/GU - Constipation - PCR': u'Abdominal Pain',\n",
    " u'GI/GU - GERD (Reflux) - PCR': u'Chest Pain',\n",
    " u'GI/GU - Hematemesis (vomiting blood) - PCR': u'General Trauma Management',\n",
    " u'GI/GU - Obesity - PCR': u'Altered Mental Status',\n",
    " u'Infectious - Bronchitis - Acute - PCR': u'Respiratory distress/Asthma/COPD/Pneumonia/Reactive airway',\n",
    " u'Injury - Ankle - PCR': u'General Trauma Management',\n",
    " u'Injury - Elbow - PCR': u'General Trauma Management',\n",
    " u'Injury - Eye and/or Orbit - PCR': u'General Trauma Management',\n",
    " u'Injury - Forearm - PCR': u'General Trauma Management',\n",
    " u'Injury - Hip - PCR': u'General Trauma Management',\n",
    " u'Injury - Lower leg - PCR': u'General Trauma Management',\n",
    " u'Injury - Lung Hemothorax - Traumatic - PCR': u'General Trauma Management',\n",
    " u'Injury - Lung Pneumothorax - Traumatic - PCR': u'General Trauma Management',\n",
    " u'Injury - Nose - PCR': u'General Trauma Management',\n",
    " u'Injury - Pelvis - PCR': u'General Trauma Management',\n",
    " u'Injury - Shoulder or Upper Arm - PCR': u'General Trauma Management',\n",
    " u'Injury - Thigh (upper leg) - PCR': u'General Trauma Management',\n",
    " u'Injury - Thorax (upper chest) - PCR': u'General Trauma Management',\n",
    " u'Intracranial - Stroke (CVA) Hemorrhagic - PCR': u'Head Trauma',\n",
    " u'Maltreatment - Adult Physical Abuse Suspected - PCR': u'General Trauma Management',\n",
    " u'Neuro - Hemiplegia - PCR': u'Stroke/TIA',\n",
    " u'Neuro - Seizure - PCR': u'Seizure',\n",
    " u'Neuro - Status Epilepticus - PCR': u'Seizure',\n",
    " u'Neuro - TIA (transient ischemic attack) - PCR': u'Stroke/TIA',\n",
    " u'OB - Spontaneous Abortion (Miscarriage) - PCR': u'General Patient Care',\n",
    " u'Respiratory - Asthma Exacerbation - PCR': u'Respiratory distress/Asthma/COPD/Pneumonia/Reactive airway',\n",
    " u'Respiratory - Bronchospasm Acute Onset - PCR': u'Respiratory distress/Asthma/COPD/Pneumonia/Reactive airway',\n",
    " u'Respiratory - COPD Exacerbation - PCR': u'Respiratory distress/Asthma/COPD/Pneumonia/Reactive airway',\n",
    " u'Respiratory - Hemoptysis - PCR': u'Respiratory distress/Asthma/COPD/Pneumonia/Reactive airway',\n",
    " u'Respiratory - Pneumothorax (Spontaneous) - PCR': u'Respiratory distress/Asthma/COPD/Pneumonia/Reactive airway',\n",
    " u'Sickle Cell Anemia/Crisis - PCR': u'Altered Mental Status'}\n",
    "    \n",
    "    if cc not in cc2protocol:\n",
    "        res = calltype2protocol[calltype]\n",
    "    else:\n",
    "        res = cc2protocol[cc]\n",
    "    #res = impression2protocol[impressions[-1]]\n",
    "    if 'aspirin' in interventions:\n",
    "        res = 'Chest Pain'\n",
    "    if 'nitroglycerin' in interventions:\n",
    "        res = 'Chest Pain'\n",
    "    if 'morphine' in interventions:\n",
    "        res = 'Chest Pain'\n",
    "    if 'albuterol' in interventions:\n",
    "        res = 'Respiratory distress/Asthma/COPD/Pneumonia/Reactive airway'\n",
    "    if 'ipratopium (atrovent)' in interventions:\n",
    "        res = 'Respiratory distress/Asthma/COPD/Pneumonia/Reactive airway'\n",
    "    if 'dexamethasone' in interventions:\n",
    "        res = 'Respiratory distress/Asthma/COPD/Pneumonia/Reactive airway'\n",
    "    if 'magnesium sulfate' in interventions:\n",
    "        res = 'Respiratory distress/Asthma/COPD/Pneumonia/Reactive airway'\n",
    "    if 'glutose' in interventions:\n",
    "        res = 'Seizure'\n",
    "    if 'intraosseus' in interventions:\n",
    "        res = 'Ventricular Fibrillation/Pulseless Ventricular Tachycardia'\n",
    "    if 'diphenhydramine (benadryl)' in interventions:\n",
    "        res = 'Allergic Reaction/Anaphylaxis'\n",
    "    if 'occlusive dressing' in interventions:\n",
    "        res = 'General Trauma Management'\n",
    "    if 'oropharyngeal airway insertion' in interventions:\n",
    "        res = 'Ventricular Fibrillation/Pulseless Ventricular Tachycardia'\n",
    "    if 'rosc' in interventions:\n",
    "        res = 'Ventricular Fibrillation/Pulseless Ventricular Tachycardia'\n",
    "        \n",
    "    return res"
   ]
  },
  {
   "cell_type": "code",
   "execution_count": 37,
   "metadata": {},
   "outputs": [],
   "source": [
    "import re\n",
    "import numpy as np\n",
    "res = []\n",
    "impressions = []\n",
    "chief_complain = []\n",
    "protocol_satistic = {}\n",
    "intermapping = {}\n",
    "impremapping = {}\n",
    "# for df\n",
    "Narratives = []\n",
    "CCs = []\n",
    "CallTypes = []\n",
    "Protocols = []\n",
    "Predictions = []\n",
    "Impres = []\n",
    "Inters = []\n",
    "for item in df.iterrows():\n",
    "    #lenth = len(re.split('[DACHRET]:|[dachret]:|[DACHRET]-|[dachret]-|[dachret]/|[DACHRET]/|[DACHRET] -|[dachret] -'\\\n",
    "                   #      ,item[1]['Narrative']))\n",
    "    #lenth = len(re.split(r'\\s{2,}',item[1]['Narrative']))\n",
    "    #if lenth in num_satistic:\n",
    "    #    num_satistic[lenth] += 1\n",
    "    #else:\n",
    "     #   num_satistic[lenth] = 1\n",
    "    #if lenth == 1:\n",
    "     #   print item[1]['Narrative']\n",
    "    inter = item[1]['Interventions'].strip('{}').split('}{')\n",
    "    inter = [i.split(':')[-1].strip().lower() for i in inter]\n",
    "    if len(inter) <= 2 and 'hospital contact' in inter:\n",
    "        continue\n",
    "    impression = item[1]['Impression'].strip('{}').split('}{')\n",
    "    chief_complain = item[1]['ChiefComplaint'].strip('{}').split('}{')\n",
    "    cc = []\n",
    "    for i in chief_complain:\n",
    "        temp = i.split('-')\n",
    "        temp = [i.strip() for i in temp]\n",
    "        if temp[0] == 'Cardiac':\n",
    "            cc.append(temp[1])\n",
    "        else:\n",
    "            cc.append(temp[0])\n",
    "    # result record\n",
    "    # cases: 1. predicitons differ from labeling\n",
    "    # 2. labelings are ??? or nan\n",
    "    if annotator(cc[-1],item[1]['CallType'],inter) != item[1]['Protocol'] or \\\n",
    "    item[1]['Protocol'] == '???' or pd.isnull(item[1]['Protocol']):\n",
    "        Narratives.append(item[1]['Narrative'])\n",
    "        CCs.append(item[1]['ChiefComplaint'])\n",
    "        CallTypes.append(item[1]['CallType'])\n",
    "        Protocols.append(item[1]['Protocol'])\n",
    "        Predictions.append(annotator(cc[-1],item[1]['CallType'],inter))\n",
    "        Impres.append(item[1]['Impression'])\n",
    "        Inters.append(item[1]['Interventions'])\n",
    "        \n",
    "    res.append(annotator(cc[-1],item[1]['CallType'],inter) == item[1]['Protocol'])\n",
    "    if item[1]['Protocol'] in protocol_satistic:\n",
    "        protocol_satistic[item[1]['Protocol']] += 1\n",
    "    else:\n",
    "        protocol_satistic[item[1]['Protocol']] = 1\n",
    "    \n",
    "    for inte in inter:\n",
    "        if inte in intermapping:\n",
    "            if item[1]['Protocol'] in intermapping[inte]:\n",
    "                intermapping[inte][item[1]['Protocol']] += 1\n",
    "            else:\n",
    "                intermapping[inte][item[1]['Protocol']] = 1\n",
    "        else:\n",
    "            intermapping[inte] = {item[1]['Protocol']:1}\n",
    "            \n",
    "    for impre in impression:\n",
    "        if impre in impremapping:\n",
    "            if item[1]['Protocol'] in impremapping[impre]:\n",
    "                impremapping[impre][item[1]['Protocol']] += 1\n",
    "            else:\n",
    "                impremapping[impre][item[1]['Protocol']] = 1\n",
    "        else:\n",
    "            impremapping[impre] = {item[1]['Protocol']:1}"
   ]
  },
  {
   "cell_type": "code",
   "execution_count": 40,
   "metadata": {},
   "outputs": [],
   "source": [
    "dfl = pd.DataFrame()\n",
    "dfl['CallType'] = CallTypes\n",
    "dfl['CheifComplaint'] = CCs\n",
    "dfl['Impressions'] = Impres\n",
    "dfl['Interventions'] = Inters\n",
    "dfl['Narratives'] = Narratives\n",
    "dfl['Label'] = Protocols\n",
    "dfl['Prediction'] = Predictions\n",
    "dfl.to_excel('AutoLabelCases.xlsx',index = False)"
   ]
  },
  {
   "cell_type": "code",
   "execution_count": 23,
   "metadata": {},
   "outputs": [
    {
     "data": {
      "text/plain": [
       "[u'Neuro - Altered Mental Status - PCR', u'Neuro - Seizure - PCR']"
      ]
     },
     "execution_count": 23,
     "metadata": {},
     "output_type": "execute_result"
    }
   ],
   "source": [
    "impression"
   ]
  },
  {
   "cell_type": "code",
   "execution_count": 151,
   "metadata": {},
   "outputs": [
    {
     "data": {
      "text/plain": [
       "0.6609756097560976"
      ]
     },
     "execution_count": 151,
     "metadata": {},
     "output_type": "execute_result"
    }
   ],
   "source": [
    "su = sum([int(i) for i in res])\n",
    "float(su)/len(res)"
   ]
  },
  {
   "cell_type": "code",
   "execution_count": 57,
   "metadata": {},
   "outputs": [
    {
     "data": {
      "text/plain": [
       "113"
      ]
     },
     "execution_count": 57,
     "metadata": {},
     "output_type": "execute_result"
    }
   ],
   "source": [
    "len(list(set(impressions)))"
   ]
  },
  {
   "cell_type": "code",
   "execution_count": 35,
   "metadata": {},
   "outputs": [
    {
     "data": {
      "text/plain": [
       "{nan: 6,\n",
       " u'???': 17,\n",
       " u'Abdominal Pain': 22,\n",
       " u'Alcohol Related Emergencies': 2,\n",
       " u'Allergic Reaction/Anaphylaxis': 3,\n",
       " u'Altered Mental Status': 46,\n",
       " u'Asystole/Pulseless Electrical Activity': 1,\n",
       " u'BLSCPR': 1,\n",
       " u'Behavioral/Patient Restraint/Acute Phychological Agitation': 15,\n",
       " u'Bradycardia': 1,\n",
       " u'Burns/Thermal': 1,\n",
       " u'Chest Pain': 61,\n",
       " u'General Pain Management': 15,\n",
       " u'General Patient Care': 37,\n",
       " u'General Trauma Management': 31,\n",
       " u'Head Trauma': 8,\n",
       " u'Heat Stroke/Hyperthermia': 1,\n",
       " u'Hypotension/Shock/Sepsis': 7,\n",
       " u'Overdose/Poisoning/Toxic Ingestion': 23,\n",
       " u'Pulmonary Edema/CHF': 7,\n",
       " u'Respiratory distress/Asthma/COPD/Pneumonia/Reactive airway': 70,\n",
       " u'Seizure': 21,\n",
       " u'Stroke/TIA': 9,\n",
       " u'Supraventricular Tachycardia': 2,\n",
       " u'Ventricular Fibrillation/Pulseless Ventricular Tachycardia': 3}"
      ]
     },
     "execution_count": 35,
     "metadata": {},
     "output_type": "execute_result"
    }
   ],
   "source": [
    "protocol_satistic"
   ]
  },
  {
   "cell_type": "code",
   "execution_count": 36,
   "metadata": {},
   "outputs": [
    {
     "data": {
      "text/plain": [
       "410"
      ]
     },
     "execution_count": 36,
     "metadata": {},
     "output_type": "execute_result"
    }
   ],
   "source": [
    "su = 0\n",
    "for item in protocol_satistic:\n",
    "    su += protocol_satistic[item]\n",
    "su"
   ]
  },
  {
   "cell_type": "code",
   "execution_count": 32,
   "metadata": {
    "collapsed": true
   },
   "outputs": [],
   "source": [
    "for inter in intermapping:\n",
    "    summ = 0.\n",
    "    for it in intermapping[inter]:\n",
    "        summ += intermapping[inter][it]\n",
    "    for it in intermapping[inter]:\n",
    "        intermapping[inter][it] /= summ"
   ]
  },
  {
   "cell_type": "code",
   "execution_count": 27,
   "metadata": {
    "collapsed": true
   },
   "outputs": [],
   "source": [
    "for impre in impremapping:\n",
    "    summ = 0.\n",
    "    for im in impremapping[impre]:\n",
    "        summ += impremapping[impre][im]\n",
    "    for im in impremapping[impre]:\n",
    "        impremapping[impre][im] /= summ"
   ]
  },
  {
   "cell_type": "code",
   "execution_count": 30,
   "metadata": {},
   "outputs": [],
   "source": [
    "impression_mapping = {}\n",
    "for i in impremapping:\n",
    "    if max(impremapping[i].values()) > 0.9:\n",
    "        maxi = 0.\n",
    "        res = ''\n",
    "        for j in impremapping[i]:\n",
    "            if impremapping[i][j] > maxi:\n",
    "                maxi = impremapping[i][j]\n",
    "                res = j\n",
    "        impression_mapping[i] = j\n"
   ]
  },
  {
   "cell_type": "code",
   "execution_count": 41,
   "metadata": {},
   "outputs": [
    {
     "data": {
      "text/plain": [
       "51"
      ]
     },
     "execution_count": 41,
     "metadata": {},
     "output_type": "execute_result"
    }
   ],
   "source": [
    "len(impression_mapping)"
   ]
  },
  {
   "cell_type": "code",
   "execution_count": 37,
   "metadata": {
    "collapsed": true
   },
   "outputs": [],
   "source": [
    "protocol_satistic = {}\n",
    "for item in df.iterrows():\n",
    "    if item[1]['Protocol'] in protocol_satistic:\n",
    "        protocol_satistic[item[1]['Protocol']] += 1\n",
    "    else:\n",
    "        protocol_satistic[item[1]['Protocol']] = 1"
   ]
  },
  {
   "cell_type": "code",
   "execution_count": 38,
   "metadata": {},
   "outputs": [
    {
     "data": {
      "text/plain": [
       "{nan: 7,\n",
       " u'???': 21,\n",
       " u'Abdominal Pain': 25,\n",
       " u'Alcohol Related Emergencies': 4,\n",
       " u'Allergic Reaction/Anaphylaxis': 3,\n",
       " u'Altered Mental Status': 52,\n",
       " u'Asystole/Pulseless Electrical Activity': 1,\n",
       " u'BLSCPR': 1,\n",
       " u'Behavioral/Patient Restraint/Acute Phychological Agitation': 22,\n",
       " u'Bradycardia': 1,\n",
       " u'Burns/Thermal': 2,\n",
       " u'Chest Pain': 62,\n",
       " u'General Pain Management': 23,\n",
       " u'General Patient Care': 55,\n",
       " u'General Trauma Management': 57,\n",
       " u'Head Trauma': 11,\n",
       " u'Heat Stroke/Hyperthermia': 1,\n",
       " u'Hypotension/Shock/Sepsis': 9,\n",
       " u'Overdose/Poisoning/Toxic Ingestion': 23,\n",
       " u'Pulmonary Edema/CHF': 7,\n",
       " u'Respiratory distress/Asthma/COPD/Pneumonia/Reactive airway': 78,\n",
       " u'Seizure': 21,\n",
       " u'Stroke/TIA': 9,\n",
       " u'Supraventricular Tachycardia': 2,\n",
       " u'Ventricular Fibrillation/Pulseless Ventricular Tachycardia': 3}"
      ]
     },
     "execution_count": 38,
     "metadata": {},
     "output_type": "execute_result"
    }
   ],
   "source": [
    "protocol_satistic"
   ]
  },
  {
   "cell_type": "code",
   "execution_count": 30,
   "metadata": {},
   "outputs": [
    {
     "ename": "NameError",
     "evalue": "name 'protocol_satistic' is not defined",
     "output_type": "error",
     "traceback": [
      "\u001b[0;31m---------------------------------------------------------------------------\u001b[0m",
      "\u001b[0;31mNameError\u001b[0m                                 Traceback (most recent call last)",
      "\u001b[0;32m<ipython-input-30-0bdb4587e37d>\u001b[0m in \u001b[0;36m<module>\u001b[0;34m()\u001b[0m\n\u001b[0;32m----> 1\u001b[0;31m \u001b[0mlen\u001b[0m\u001b[0;34m(\u001b[0m\u001b[0mprotocol_satistic\u001b[0m\u001b[0;34m)\u001b[0m\u001b[0;34m\u001b[0m\u001b[0m\n\u001b[0m",
      "\u001b[0;31mNameError\u001b[0m: name 'protocol_satistic' is not defined"
     ]
    }
   ],
   "source": [
    "len(protocol_satistic)"
   ]
  },
  {
   "cell_type": "code",
   "execution_count": 112,
   "metadata": {
    "collapsed": true
   },
   "outputs": [],
   "source": [
    "interventions = []\n",
    "for item in df.iterrows():\n",
    "    interventions.append(item[1]['Interventions'])"
   ]
  },
  {
   "cell_type": "code",
   "execution_count": 113,
   "metadata": {
    "collapsed": true
   },
   "outputs": [],
   "source": [
    "Inter = []\n",
    "for item in interventions:\n",
    "    temp = item.strip('{}').split('}{')\n",
    "    temp = [item.split(':')[-1] for item in temp]\n",
    "    Inter += temp"
   ]
  },
  {
   "cell_type": "code",
   "execution_count": 115,
   "metadata": {},
   "outputs": [
    {
     "name": "stdout",
     "output_type": "stream",
     "text": [
      "2\n"
     ]
    }
   ],
   "source": [
    "Inter = list(set(Inter))\n",
    "result = Inter\n",
    "for item in Inter:\n",
    "    if item.strip(',').isdigit():\n",
    "        print item\n",
    "        result.remove(item)\n",
    "    if len(item) == 0:\n",
    "        result.remove(item)"
   ]
  },
  {
   "cell_type": "code",
   "execution_count": 116,
   "metadata": {},
   "outputs": [
    {
     "data": {
      "text/plain": [
       "[u' Hospital',\n",
       " u' Defibrillation',\n",
       " u' Intraosseus',\n",
       " u' Splinting',\n",
       " u' Midazolam (Versed)',\n",
       " u' Dexamethasone (Decadron)',\n",
       " u'10,000',\n",
       " u' King LTSD Airway',\n",
       " u' Naloxone (Narcan)',\n",
       " u' Occlusive Dressing',\n",
       " u' Oropharyngeal airway insertion',\n",
       " u' Normal Saline',\n",
       " u' Bleeding Controlled',\n",
       " u' Assist Ventilation (BVM)',\n",
       " u' Adenosine (Adenocard)',\n",
       " u' Nitroglycerine',\n",
       " u' Ondansetron (Zofran)',\n",
       " u' Oxygen',\n",
       " u' Suction',\n",
       " u' AED',\n",
       " u' Capnography (1) First Reading',\n",
       " u' X-Collar-Only Immobilization',\n",
       " u' Dextrose 25%',\n",
       " u' Cold Pack',\n",
       " u' Spinal Motion Restriction',\n",
       " u' Nasopharyngeal airway insertio',\n",
       " u' Oral Glucose',\n",
       " u' Capnography (2) Seco',\n",
       " u' Glucagon',\n",
       " u' Magnesium Sulfate',\n",
       " u' Albuterol',\n",
       " u' Ipratropium (Atrovent)',\n",
       " u' Travel',\n",
       " u' ROSC',\n",
       " u' Glutose',\n",
       " u' Ventilator',\n",
       " u' Intubation',\n",
       " u' Cardiac Monitor',\n",
       " u' Amiodarone (Bolus)',\n",
       " u' Capnography (2) Second Reading',\n",
       " u' 12-Lead ECG',\n",
       " u' Fentanyl',\n",
       " u' CPAP',\n",
       " u' DuoNeb',\n",
       " u' Dextrose 10%',\n",
       " u' IV',\n",
       " u' Hospital Contact',\n",
       " u' Aspirin',\n",
       " u' Pulse Oximetry',\n",
       " u' Diphenhydramine (Benadryl)',\n",
       " u' Chest Decompression',\n",
       " u' Restraints',\n",
       " u' CPR',\n",
       " u' Open Airway']"
      ]
     },
     "execution_count": 116,
     "metadata": {},
     "output_type": "execute_result"
    }
   ],
   "source": [
    "Inter"
   ]
  },
  {
   "cell_type": "code",
   "execution_count": 4,
   "metadata": {},
   "outputs": [
    {
     "data": {
      "text/plain": [
       "211"
      ]
     },
     "execution_count": 4,
     "metadata": {},
     "output_type": "execute_result"
    }
   ],
   "source": [
    "len(texts)"
   ]
  },
  {
   "cell_type": "code",
   "execution_count": 14,
   "metadata": {
    "collapsed": true
   },
   "outputs": [],
   "source": [
    "texts = ['this is paramedic Smith we are transporting a 36 year old male complaining of shortness of breath he also complains of non radiating sharp chest pain on expiration symptoms began 1 hour ago after exercising he attempted to use his inhaler without relief']"
   ]
  },
  {
   "cell_type": "code",
   "execution_count": 15,
   "metadata": {},
   "outputs": [
    {
     "name": "stdout",
     "output_type": "stream",
     "text": [
      "(breath,True,expiration,expiration,694.0,1)\n",
      "(pain,True,of chest pain,of chest pain,772.0,1)\n",
      "(gender,True,male,male,573.0,1)\n",
      "(age,True,36,year,573.0,1)\n",
      "BLSCPR 0.0\n",
      "BleedingControl 0.0\n",
      "Burn 0.0\n",
      "GeneralTraumaManagement 0.221568961863\n",
      "RespiratoryDistress 0.304256234169\n",
      "ChestPain 0.262163931168\n"
     ]
    },
    {
     "ename": "NameError",
     "evalue": "name 'mapping' is not defined",
     "output_type": "error",
     "traceback": [
      "\u001b[0;31m---------------------------------------------------------------------------\u001b[0m",
      "\u001b[0;31mNameError\u001b[0m                                 Traceback (most recent call last)",
      "\u001b[0;32m<ipython-input-15-7ea2fa4b14d6>\u001b[0m in \u001b[0;36m<module>\u001b[0;34m()\u001b[0m\n\u001b[1;32m     19\u001b[0m        \u001b[0mpost_tick_handler\u001b[0m\u001b[0;34m=\u001b[0m\u001b[0mNone\u001b[0m\u001b[0;34m\u001b[0m\u001b[0m\n\u001b[1;32m     20\u001b[0m         )\n\u001b[0;32m---> 21\u001b[0;31m     \u001b[0mresults\u001b[0m\u001b[0;34m.\u001b[0m\u001b[0mappend\u001b[0m\u001b[0;34m(\u001b[0m\u001b[0mblackboard\u001b[0m\u001b[0;34m.\u001b[0m\u001b[0mprotocol\u001b[0m \u001b[0;34m==\u001b[0m \u001b[0mmapping\u001b[0m\u001b[0;34m[\u001b[0m\u001b[0mtexts\u001b[0m\u001b[0;34m[\u001b[0m\u001b[0mitem\u001b[0m\u001b[0;34m]\u001b[0m\u001b[0;34m]\u001b[0m\u001b[0;34m)\u001b[0m\u001b[0;34m\u001b[0m\u001b[0m\n\u001b[0m\u001b[1;32m     22\u001b[0m     \u001b[0mrankings\u001b[0m\u001b[0;34m.\u001b[0m\u001b[0mappend\u001b[0m\u001b[0;34m(\u001b[0m\u001b[0mblackboard\u001b[0m\u001b[0;34m.\u001b[0m\u001b[0mranking\u001b[0m\u001b[0;34m)\u001b[0m\u001b[0;34m\u001b[0m\u001b[0m\n\u001b[1;32m     23\u001b[0m     \u001b[0mgroundtruths\u001b[0m\u001b[0;34m.\u001b[0m\u001b[0mappend\u001b[0m\u001b[0;34m(\u001b[0m\u001b[0mmapping\u001b[0m\u001b[0;34m[\u001b[0m\u001b[0mtexts\u001b[0m\u001b[0;34m[\u001b[0m\u001b[0mitem\u001b[0m\u001b[0;34m]\u001b[0m\u001b[0;34m]\u001b[0m\u001b[0;34m)\u001b[0m\u001b[0;34m\u001b[0m\u001b[0m\n",
      "\u001b[0;31mNameError\u001b[0m: name 'mapping' is not defined"
     ]
    }
   ],
   "source": [
    "results = []\n",
    "rankings = []\n",
    "groundtruths = []\n",
    "for item in texts:\n",
    "    blackboard = Blackboard()\n",
    "    blackboard.text = [item]\n",
    "    root = py_trees.composites.Sequence(\"Root_1\")\n",
    "    IG = be.InformationGathering()\n",
    "    TC = be.TextCollection()\n",
    "    V = be.Vectorize()\n",
    "    root.add_children([TC,IG,V])\n",
    "    behaviour_tree = py_trees.trees.BehaviourTree(root)\n",
    "    behaviour_tree.add_pre_tick_handler(pre_tick_handler)\n",
    "    behaviour_tree.setup(15)\n",
    "    behaviour_tree.tick_tock(\n",
    "            sleep_ms=50,\n",
    "            number_of_iterations=1,\n",
    "            pre_tick_handler=None,\n",
    "       post_tick_handler=None\n",
    "        )\n",
    "    results.append(blackboard.protocol == mapping[texts[item]])\n",
    "    rankings.append(blackboard.ranking)\n",
    "    groundtruths.append(mapping[texts[item]])"
   ]
  },
  {
   "cell_type": "code",
   "execution_count": 6,
   "metadata": {},
   "outputs": [
    {
     "data": {
      "text/plain": [
       "211"
      ]
     },
     "execution_count": 6,
     "metadata": {},
     "output_type": "execute_result"
    }
   ],
   "source": [
    "len(results)"
   ]
  },
  {
   "cell_type": "code",
   "execution_count": 7,
   "metadata": {},
   "outputs": [
    {
     "data": {
      "text/plain": [
       "0.5355450236966824"
      ]
     },
     "execution_count": 7,
     "metadata": {},
     "output_type": "execute_result"
    }
   ],
   "source": [
    "# one-hot result\n",
    "result = sum([int(item) for item in results])\n",
    "accu = float(result)/len(results)\n",
    "accu"
   ]
  },
  {
   "cell_type": "code",
   "execution_count": 8,
   "metadata": {
    "collapsed": true
   },
   "outputs": [],
   "source": [
    "def rank(scores):\n",
    "    max_score = 0\n",
    "    sec_score = 0\n",
    "    for item in scores:\n",
    "        if item[1] > max_score:\n",
    "            max_score = item[1]\n",
    "            result = [item[0]]\n",
    "    temp = ''\n",
    "    for item in scores:\n",
    "        if item[1] >= sec_score and item[1] < max_score:\n",
    "            sec_score = item[1]\n",
    "            temp = item[0]\n",
    "    result.append(temp)\n",
    "    return result"
   ]
  },
  {
   "cell_type": "code",
   "execution_count": 9,
   "metadata": {
    "collapsed": true
   },
   "outputs": [],
   "source": [
    "ranks = []\n",
    "for item in rankings:\n",
    "    ranks.append(rank(item))"
   ]
  },
  {
   "cell_type": "code",
   "execution_count": 18,
   "metadata": {
    "collapsed": true
   },
   "outputs": [],
   "source": [
    "def nDCG(rank,gt):\n",
    "    from numpy import log2\n",
    "    iDCG = {'GeneralTraumaManagement':2 + 1/log2(3),\n",
    "            'RespiratoryDistress':2 + 1/log2(3),\n",
    "            'ChestPain':2 + 1/log2(3),\n",
    "            'Burn':2 + 1/log2(3),\n",
    "            'BLSCPR':2,\n",
    "            'BleedingControl':2 + 1/log2(3)}\n",
    "    score = {'GeneralTraumaManagement':{'GeneralTraumaManagement':2,\n",
    "            'RespiratoryDistress':0,\n",
    "            'ChestPain':0,\n",
    "            'Burn':1,\n",
    "            'BLSCPR':0,\n",
    "            'BleedingControl':1},\n",
    "            'RespiratoryDistress':{'GeneralTraumaManagement':0,\n",
    "            'RespiratoryDistress':2,\n",
    "            'ChestPain':1,\n",
    "            'Burn':0,\n",
    "            'BLSCPR':0,\n",
    "            'BleedingControl':0},\n",
    "            'ChestPain':{'GeneralTraumaManagement':1,\n",
    "            'RespiratoryDistress':1,\n",
    "            'ChestPain':2,\n",
    "            'Burn':0,\n",
    "            'BLSCPR':0,\n",
    "            'BleedingControl':0},\n",
    "            'Burn':{'GeneralTraumaManagement':1,\n",
    "            'RespiratoryDistress':0,\n",
    "            'ChestPain':0,\n",
    "            'Burn':2,\n",
    "            'BLSCPR':0,\n",
    "            'BleedingControl':1},\n",
    "            'BLSCPR':{'GeneralTraumaManagement':0,\n",
    "            'RespiratoryDistress':0,\n",
    "            'ChestPain':0,\n",
    "            'Burn':0,\n",
    "            'BLSCPR':2,\n",
    "            'BleedingControl':0},\n",
    "            'BleedingControl':{'GeneralTraumaManagement':1,\n",
    "            'RespiratoryDistress':0,\n",
    "            'ChestPain':0,\n",
    "            'Burn':1,\n",
    "            'BLSCPR':0,\n",
    "            'BleedingControl':2},}\n",
    "    dcg = 0.\n",
    "    for idx,item in enumerate(rank):\n",
    "        dcg += score[gt][item]/log2(idx+2)\n",
    "    return dcg/iDCG[gt]"
   ]
  },
  {
   "cell_type": "code",
   "execution_count": 16,
   "metadata": {
    "collapsed": true
   },
   "outputs": [],
   "source": [
    "ndcgs = []\n",
    "for idx,item in enumerate(ranks):\n",
    "    ndcgs.append(nDCG(item,groundtruths[idx]))"
   ]
  },
  {
   "cell_type": "code",
   "execution_count": 49,
   "metadata": {
    "collapsed": true
   },
   "outputs": [],
   "source": [
    "df = pd.DataFrame()"
   ]
  },
  {
   "cell_type": "code",
   "execution_count": 50,
   "metadata": {
    "collapsed": true
   },
   "outputs": [],
   "source": [
    "df['text'] = texts\n",
    "df['score'] = rankings\n",
    "df['ranking'] = ranks\n",
    "df['groundtruth'] = groundtruths\n",
    "df['nDCG'] = ndcgs\n",
    "df['correctness'] = results"
   ]
  },
  {
   "cell_type": "code",
   "execution_count": 53,
   "metadata": {
    "collapsed": true
   },
   "outputs": [],
   "source": [
    "df.to_excel('VecMethEval.xlsx',index = False)"
   ]
  },
  {
   "cell_type": "code",
   "execution_count": 21,
   "metadata": {},
   "outputs": [
    {
     "data": {
      "text/plain": [
       "0.23981246656813146"
      ]
     },
     "execution_count": 21,
     "metadata": {},
     "output_type": "execute_result"
    }
   ],
   "source": [
    "from numpy import log2\n",
    "(1/log2(3))/(2+1/log2(3))"
   ]
  },
  {
   "cell_type": "code",
   "execution_count": 17,
   "metadata": {},
   "outputs": [
    {
     "data": {
      "text/plain": [
       "0.70545185795383336"
      ]
     },
     "execution_count": 17,
     "metadata": {},
     "output_type": "execute_result"
    }
   ],
   "source": [
    "sum(ndcgs)/len(ndcgs)"
   ]
  },
  {
   "cell_type": "code",
   "execution_count": 41,
   "metadata": {},
   "outputs": [
    {
     "data": {
      "text/plain": [
       "True"
      ]
     },
     "execution_count": 41,
     "metadata": {},
     "output_type": "execute_result"
    }
   ],
   "source": [
    "root = py_trees.composites.Sequence(\"Root_1\")\n",
    "IG = be.InformationGathering()\n",
    "TC = be.TextCollection()\n",
    "V = be.Vectorize()\n",
    "root.add_children([TC,IG,V])\n",
    "behaviour_tree = py_trees.trees.BehaviourTree(root)\n",
    "behaviour_tree.add_pre_tick_handler(pre_tick_handler)\n",
    "behaviour_tree.add_post_tick_handler(post_tick_handler)\n",
    "behaviour_tree.setup(15)"
   ]
  },
  {
   "cell_type": "code",
   "execution_count": 10,
   "metadata": {},
   "outputs": [
    {
     "name": "stdout",
     "output_type": "stream",
     "text": [
      "(wound,True,trauma,trauma,578.0,2)\n",
      "(breath,True,lung sounds,lung sounds,983.0,2)\n",
      "(events,True,assaulted,assaulted,966.0,2)\n",
      "(bleed,True,bleeding,bleeding,645.0,2)\n",
      "(conscious,True,alert,alert,1000.0,2)\n",
      "(deformities,False,deformity neck,deformity neck,819.0,2)\n",
      "BLSCPR 0.0\n",
      "BleedingControl 0.310314456348\n",
      "Burn 0.0\n",
      "GeneralTraumaManagement 0.105104451934\n",
      "RespiratoryDistress 0.273045600949\n",
      "ChestPain 0.0\n"
     ]
    }
   ],
   "source": [
    "behaviour_tree.tick_tock(\n",
    "            sleep_ms=50,\n",
    "            number_of_iterations=1,\n",
    "            pre_tick_handler=None,\n",
    "       post_tick_handler=None\n",
    "        )"
   ]
  },
  {
   "cell_type": "code",
   "execution_count": 19,
   "metadata": {},
   "outputs": [
    {
     "ename": "AttributeError",
     "evalue": "'ConceptExtractor' object has no attribute 'seed'",
     "output_type": "error",
     "traceback": [
      "\u001b[0;31m---------------------------------------------------------------------------\u001b[0m",
      "\u001b[0;31mAttributeError\u001b[0m                            Traceback (most recent call last)",
      "\u001b[0;32m<ipython-input-19-eb1bc6632a27>\u001b[0m in \u001b[0;36m<module>\u001b[0;34m()\u001b[0m\n\u001b[1;32m     27\u001b[0m \u001b[0mbehaviour_tree\u001b[0m\u001b[0;34m.\u001b[0m\u001b[0madd_pre_tick_handler\u001b[0m\u001b[0;34m(\u001b[0m\u001b[0mpre_tick_handler\u001b[0m\u001b[0;34m)\u001b[0m\u001b[0;34m\u001b[0m\u001b[0m\n\u001b[1;32m     28\u001b[0m \u001b[0mbehaviour_tree\u001b[0m\u001b[0;34m.\u001b[0m\u001b[0madd_post_tick_handler\u001b[0m\u001b[0;34m(\u001b[0m\u001b[0mpost_tick_handler\u001b[0m\u001b[0;34m)\u001b[0m\u001b[0;34m\u001b[0m\u001b[0m\n\u001b[0;32m---> 29\u001b[0;31m \u001b[0mbehaviour_tree\u001b[0m\u001b[0;34m.\u001b[0m\u001b[0msetup\u001b[0m\u001b[0;34m(\u001b[0m\u001b[0;36m15\u001b[0m\u001b[0;34m)\u001b[0m\u001b[0;34m\u001b[0m\u001b[0m\n\u001b[0m",
      "\u001b[0;32m/Users/sileshu/anaconda/lib/python2.7/site-packages/py_trees/trees.pyc\u001b[0m in \u001b[0;36msetup\u001b[0;34m(self, timeout)\u001b[0m\n\u001b[1;32m    202\u001b[0m             \u001b[0;34m:\u001b[0m\u001b[0mobj\u001b[0m\u001b[0;34m:\u001b[0m\u001b[0;34m`\u001b[0m\u001b[0mbool\u001b[0m\u001b[0;34m`\u001b[0m\u001b[0;34m:\u001b[0m \u001b[0msuceess\u001b[0m \u001b[0;32mor\u001b[0m \u001b[0mfailure\u001b[0m \u001b[0mof\u001b[0m \u001b[0mthe\u001b[0m \u001b[0moperation\u001b[0m\u001b[0;34m\u001b[0m\u001b[0m\n\u001b[1;32m    203\u001b[0m         \"\"\"\n\u001b[0;32m--> 204\u001b[0;31m         \u001b[0;32mreturn\u001b[0m \u001b[0mself\u001b[0m\u001b[0;34m.\u001b[0m\u001b[0mroot\u001b[0m\u001b[0;34m.\u001b[0m\u001b[0msetup\u001b[0m\u001b[0;34m(\u001b[0m\u001b[0mtimeout\u001b[0m\u001b[0;34m)\u001b[0m\u001b[0;34m\u001b[0m\u001b[0m\n\u001b[0m\u001b[1;32m    205\u001b[0m \u001b[0;34m\u001b[0m\u001b[0m\n\u001b[1;32m    206\u001b[0m     \u001b[0;32mdef\u001b[0m \u001b[0mtick\u001b[0m\u001b[0;34m(\u001b[0m\u001b[0mself\u001b[0m\u001b[0;34m,\u001b[0m \u001b[0mpre_tick_handler\u001b[0m\u001b[0;34m=\u001b[0m\u001b[0mNone\u001b[0m\u001b[0;34m,\u001b[0m \u001b[0mpost_tick_handler\u001b[0m\u001b[0;34m=\u001b[0m\u001b[0mNone\u001b[0m\u001b[0;34m)\u001b[0m\u001b[0;34m:\u001b[0m\u001b[0;34m\u001b[0m\u001b[0m\n",
      "\u001b[0;32m/Users/sileshu/anaconda/lib/python2.7/site-packages/py_trees/composites.pyc\u001b[0m in \u001b[0;36msetup\u001b[0;34m(self, timeout)\u001b[0m\n\u001b[1;32m     83\u001b[0m         \u001b[0mresult\u001b[0m \u001b[0;34m=\u001b[0m \u001b[0mTrue\u001b[0m\u001b[0;34m\u001b[0m\u001b[0m\n\u001b[1;32m     84\u001b[0m         \u001b[0;32mfor\u001b[0m \u001b[0mchild\u001b[0m \u001b[0;32min\u001b[0m \u001b[0mself\u001b[0m\u001b[0;34m.\u001b[0m\u001b[0mchildren\u001b[0m\u001b[0;34m:\u001b[0m\u001b[0;34m\u001b[0m\u001b[0m\n\u001b[0;32m---> 85\u001b[0;31m             \u001b[0mnew_result\u001b[0m \u001b[0;34m=\u001b[0m \u001b[0mchild\u001b[0m\u001b[0;34m.\u001b[0m\u001b[0msetup\u001b[0m\u001b[0;34m(\u001b[0m\u001b[0mtimeout\u001b[0m\u001b[0;34m)\u001b[0m\u001b[0;34m\u001b[0m\u001b[0m\n\u001b[0m\u001b[1;32m     86\u001b[0m             \u001b[0;32mif\u001b[0m \u001b[0mnew_result\u001b[0m \u001b[0;32mis\u001b[0m \u001b[0mNone\u001b[0m\u001b[0;34m:\u001b[0m\u001b[0;34m\u001b[0m\u001b[0m\n\u001b[1;32m     87\u001b[0m                 \u001b[0;31m# replace with py_trees exception!\u001b[0m\u001b[0;34m\u001b[0m\u001b[0;34m\u001b[0m\u001b[0m\n",
      "\u001b[0;32m/Users/sileshu/Desktop/BT/behaviours.pyc\u001b[0m in \u001b[0;36msetup\u001b[0;34m(self, unused_timeout)\u001b[0m\n\u001b[1;32m     17\u001b[0m         \u001b[0mthe\u001b[0m \u001b[0mlist\u001b[0m \u001b[0mhere\u001b[0m \u001b[0;32mis\u001b[0m \u001b[0mthe\u001b[0m \u001b[0mcomplete\u001b[0m \u001b[0mlist\u001b[0m\u001b[0;34m\u001b[0m\u001b[0m\n\u001b[1;32m     18\u001b[0m         '''\n\u001b[0;32m---> 19\u001b[0;31m         \u001b[0mself\u001b[0m\u001b[0;34m.\u001b[0m\u001b[0mce1\u001b[0m \u001b[0;34m=\u001b[0m \u001b[0mCE\u001b[0m\u001b[0;34m.\u001b[0m\u001b[0mConceptExtractor\u001b[0m\u001b[0;34m(\u001b[0m\u001b[0;34m\"Concept_List_1.csv\"\u001b[0m\u001b[0;34m)\u001b[0m\u001b[0;34m\u001b[0m\u001b[0m\n\u001b[0m\u001b[1;32m     20\u001b[0m         \u001b[0mself\u001b[0m\u001b[0;34m.\u001b[0m\u001b[0mce1\u001b[0m\u001b[0;34m.\u001b[0m\u001b[0mStatusInit\u001b[0m\u001b[0;34m(\u001b[0m\u001b[0;34m)\u001b[0m\u001b[0;34m\u001b[0m\u001b[0m\n\u001b[1;32m     21\u001b[0m         \u001b[0mself\u001b[0m\u001b[0;34m.\u001b[0m\u001b[0mce2\u001b[0m \u001b[0;34m=\u001b[0m \u001b[0mCE\u001b[0m\u001b[0;34m.\u001b[0m\u001b[0mConceptExtractor\u001b[0m\u001b[0;34m(\u001b[0m\u001b[0;34m\"Concept_List_2.csv\"\u001b[0m\u001b[0;34m)\u001b[0m\u001b[0;34m\u001b[0m\u001b[0m\n",
      "\u001b[0;32m/Users/sileshu/Desktop/BT/ConceptExtract.py\u001b[0m in \u001b[0;36m__init__\u001b[0;34m(self, List_route)\u001b[0m\n\u001b[1;32m     37\u001b[0m             \u001b[0;32mif\u001b[0m \u001b[0mitem\u001b[0m \u001b[0;34m>\u001b[0m \u001b[0;36m0\u001b[0m\u001b[0;34m:\u001b[0m\u001b[0;34m\u001b[0m\u001b[0m\n\u001b[1;32m     38\u001b[0m                 \u001b[0mtemp\u001b[0m \u001b[0;34m=\u001b[0m \u001b[0mitem\u001b[0m\u001b[0;34m.\u001b[0m\u001b[0mlower\u001b[0m\u001b[0;34m(\u001b[0m\u001b[0;34m)\u001b[0m\u001b[0;34m\u001b[0m\u001b[0m\n\u001b[0;32m---> 39\u001b[0;31m                 \u001b[0mself\u001b[0m\u001b[0;34m.\u001b[0m\u001b[0mseeds\u001b[0m\u001b[0;34m.\u001b[0m\u001b[0mappend\u001b[0m\u001b[0;34m(\u001b[0m\u001b[0mtemp\u001b[0m\u001b[0;34m)\u001b[0m\u001b[0;34m\u001b[0m\u001b[0m\n\u001b[0m\u001b[1;32m     40\u001b[0m                 \u001b[0mself\u001b[0m\u001b[0;34m.\u001b[0m\u001b[0mCUI2Concept\u001b[0m\u001b[0;34m[\u001b[0m\u001b[0mself\u001b[0m\u001b[0;34m.\u001b[0m\u001b[0mCUIs\u001b[0m\u001b[0;34m[\u001b[0m\u001b[0midx\u001b[0m\u001b[0;34m]\u001b[0m\u001b[0;34m]\u001b[0m\u001b[0;34m.\u001b[0m\u001b[0mappend\u001b[0m\u001b[0;34m(\u001b[0m\u001b[0mtemp\u001b[0m\u001b[0;34m)\u001b[0m\u001b[0;34m\u001b[0m\u001b[0m\n\u001b[1;32m     41\u001b[0m             \u001b[0;32melse\u001b[0m\u001b[0;34m:\u001b[0m\u001b[0;34m\u001b[0m\u001b[0m\n",
      "\u001b[0;31mAttributeError\u001b[0m: 'ConceptExtractor' object has no attribute 'seed'"
     ]
    }
   ],
   "source": [
    "root_p = py_trees.composites.Sequence(\"Root_p\")\n",
    "selector = py_trees.composites.Selector(\"ProtocolSelector\")\n",
    "ChestPain = py_trees.composites.Sequence(\"ChestPain\")\n",
    "BleedingControl = py_trees.composites.Sequence(\"BleedingControl\")\n",
    "BurnInjury = py_trees.composites.Sequence(\"BurnInjury\")\n",
    "BLSCPR = py_trees.composites.Sequence(\"BLSCPR\")\n",
    "GTM = py_trees.composites.Sequence(\"GeneralTraumaManagement\")\n",
    "RES = py_trees.composites.Sequence(\"RespiratoryDistress\")\n",
    "BLSCPR_C = be.BLSCPR_Condition()\n",
    "ChestPain_C = be.ChestPain_Condition()\n",
    "BC_C = be.Bleeding_Control_Condition()\n",
    "BI_C = be.Burn_Injury_Condition()\n",
    "GTG_C = be.GeneralTraumaGuideline_Condition()\n",
    "RD_C = be.RespiratoryDistress_Condition()\n",
    "IG = be.InformationGathering()\n",
    "TC = be.TextCollection()\n",
    "Arb = be.Arbiter()\n",
    "GTM.add_children([GTG_C, be.GTM_Action])\n",
    "ChestPain.add_children([ChestPain_C, be.ChestPain_Action])\n",
    "BleedingControl.add_children([BC_C, be.BC_Action])\n",
    "BurnInjury.add_children([BI_C, be.Burn_Action])\n",
    "BLSCPR.add_children([BLSCPR_C,be.BLSCPR_Action])\n",
    "RES.add_children([RD_C,be.Respiratory_Action])\n",
    "root_p.add_children([TC,IG,selector])\n",
    "selector.add_children([BLSCPR,BleedingControl,BurnInjury,GTM,RES,ChestPain,Arb])\n",
    "behaviour_tree = py_trees.trees.BehaviourTree(root_p)\n",
    "behaviour_tree.add_pre_tick_handler(pre_tick_handler)\n",
    "behaviour_tree.add_post_tick_handler(post_tick_handler)\n",
    "behaviour_tree.setup(15)"
   ]
  },
  {
   "cell_type": "code",
   "execution_count": 7,
   "metadata": {},
   "outputs": [
    {
     "name": "stdout",
     "output_type": "stream",
     "text": [
      "(spo2,True,92%,oximetry,22.48,0)\n",
      "(pulse,True,120,pulse,3.54,0)\n",
      "(blood pressure,True,162/94,lower bp,9.84,0)\n",
      "(breath,True,respiratory difficulty,respiratory difficulty,13.07,0)\n",
      "(pain,True,of chest pain,of chest pain,16.19,0)\n",
      "(administer oxygen,True,oxygen,oxygen,13.02,0)\n",
      "(conscious,True,awake,awake,5.18,0)\n",
      "(gender,True,male,male,3.42,0)\n",
      "(age,True,36,year,3.42,0)\n"
     ]
    }
   ],
   "source": [
    "import ConceptExtract as CE\n",
    "ce = CE.ConceptExtractor(\"/Users/sileshu/Desktop/BT/MergedCL.csv\")\n",
    "ce.StatusInit()\n",
    "ce.ConceptExtract([\"this is paramedic Smith we are transporting a 36 year old male complaining of shortness of breath he also complains of non radiating sharp chest pain on expiration symptoms began 1 hour ago after exercising he attempted to use his inhaler without relief he does have a history of asthma this patient was found with obvious respiratory difficulty he is awake and appropriate on exam we find lung sounds with wheezes in Upper lobes bilaterally and quiet lower lobes bilaterally initial Vital Signs BP 162 over 94 pulse 120 for respirations 36 skin is warm and moistpulse oximetry 92% on 15 LPM by non-rebreather ECG sinus tach without a activate we've treated with high-flow oxygen followed by one dose of Proventil and atrovent by small volume nebulizer the patient has improved and now has respirations of 24 flight wheezes in all Fields Pulse oximetry 96% on 6 LPM by nebulizer we plan to begin a second dose of Proventil by nebulizer and transport to your ETA ETA is 7 minutes do you have any questions\"])\n",
    "ce.FirstExtract([\"this is paramedic Smith we are transporting a 36 year old male complaining of shortness of breath he also complains of non radiating sharp chest pain on expiration symptoms began 1 hour ago after exercising he attempted to use his inhaler without relief he does have a history of asthma this patient was found with obvious respiratory difficulty he is awake and appropriate on exam we find lung sounds with wheezes in Upper lobes bilaterally and quiet lower lobes bilaterally initial Vital Signs BP 162 over 94 pulse 120 for respirations 36 skin is warm and moistpulse oximetry 92% on 15 LPM by non-rebreather ECG sinus tach without a activate we've treated with high-flow oxygen followed by one dose of Proventil and atrovent by small volume nebulizer the patient has improved and now has respirations of 24 flight wheezes in all Fields Pulse oximetry 96% on 6 LPM by nebulizer we plan to begin a second dose of Proventil by nebulizer and transport to your ETA ETA is 7 minutes do you have any questions\"],0)\n",
    "ce.DisplayStatus()"
   ]
  },
  {
   "cell_type": "code",
   "execution_count": 8,
   "metadata": {
    "collapsed": true
   },
   "outputs": [],
   "source": [
    "TV = [int(ce.Status[item].binary) for item in ce.Status]"
   ]
  },
  {
   "cell_type": "code",
   "execution_count": 153,
   "metadata": {},
   "outputs": [
    {
     "name": "stdout",
     "output_type": "stream",
     "text": [
      "input_text:\n",
      "Some redness and swelling is noted below the right patella.\n",
      "(gender,True,male,male,1)\n",
      "(age,True,9,year,1)\n",
      "(wound,True,,cut,5)\n",
      "(swelling,True,edema,swelling,6)\n",
      "(tenderness,True,sore to touch,tenderness,5)\n",
      "(deformities,True,deformities qualifier,deformities,5)\n",
      "(events,True,falls,fell,4)\n",
      "General Trauma Guideline\n",
      "2 microgram/kg Fentanyl IN\n"
     ]
    }
   ],
   "source": [
    "behaviour_tree.tick_tock(\n",
    "            sleep_ms=50,\n",
    "            number_of_iterations=1,\n",
    "            pre_tick_handler=None,\n",
    "       post_tick_handler=None\n",
    "        )"
   ]
  },
  {
   "cell_type": "code",
   "execution_count": 10,
   "metadata": {
    "collapsed": true
   },
   "outputs": [],
   "source": [
    "PC = {\n",
    "'BLSCPR':['pulse'],\n",
    "'BleedingControl':['bleed','unstable'],\n",
    "'BurnInjury':['pain','burn','wound'],\n",
    "'ChestPain':['pain','12-lead ecg','pain region','mi','pain quality'],\n",
    "'GeneralTraumaManagement':['pain severity','pain','open chest wound','wound','contusion','evisceration','abrasion'],\n",
    "'RespiratoryDistress':['spo2','breath','etco2']\n",
    "}"
   ]
  },
  {
   "cell_type": "code",
   "execution_count": 29,
   "metadata": {},
   "outputs": [
    {
     "ename": "NameError",
     "evalue": "name 'ce' is not defined",
     "output_type": "error",
     "traceback": [
      "\u001b[0;31m---------------------------------------------------------------------------\u001b[0m",
      "\u001b[0;31mNameError\u001b[0m                                 Traceback (most recent call last)",
      "\u001b[0;32m<ipython-input-29-79c6d23412db>\u001b[0m in \u001b[0;36m<module>\u001b[0;34m()\u001b[0m\n\u001b[0;32m----> 1\u001b[0;31m \u001b[0mTV\u001b[0m \u001b[0;34m=\u001b[0m \u001b[0;34m[\u001b[0m\u001b[0mce\u001b[0m\u001b[0;34m.\u001b[0m\u001b[0mStatus\u001b[0m\u001b[0;34m[\u001b[0m\u001b[0mitem\u001b[0m\u001b[0;34m]\u001b[0m\u001b[0;34m.\u001b[0m\u001b[0mscore\u001b[0m \u001b[0;32mfor\u001b[0m \u001b[0mitem\u001b[0m \u001b[0;32min\u001b[0m \u001b[0mce\u001b[0m\u001b[0;34m.\u001b[0m\u001b[0mStatus\u001b[0m \u001b[0;32mif\u001b[0m \u001b[0mce\u001b[0m\u001b[0;34m.\u001b[0m\u001b[0mStatus\u001b[0m\u001b[0;34m[\u001b[0m\u001b[0mitem\u001b[0m\u001b[0;34m]\u001b[0m\u001b[0;34m.\u001b[0m\u001b[0mbinary\u001b[0m\u001b[0;34m]\u001b[0m\u001b[0;34m\u001b[0m\u001b[0m\n\u001b[0m",
      "\u001b[0;31mNameError\u001b[0m: name 'ce' is not defined"
     ]
    }
   ],
   "source": []
  },
  {
   "cell_type": "code",
   "execution_count": 15,
   "metadata": {
    "collapsed": true
   },
   "outputs": [],
   "source": [
    "PV = dict()\n",
    "for item in PC:\n",
    "    vec = list()\n",
    "    for i in ce.Status:\n",
    "        if i in PC[item]:\n",
    "            vec.append(1)\n",
    "        else:\n",
    "            vec.append(0)\n",
    "    PV[item] = vec"
   ]
  },
  {
   "cell_type": "code",
   "execution_count": 22,
   "metadata": {},
   "outputs": [
    {
     "name": "stdout",
     "output_type": "stream",
     "text": [
      "BLSCPR 0.099436860593\n",
      "GeneralTraumaManagement 0.171886580199\n",
      "BleedingControl 0.0\n",
      "BurnInjury 0.262561088236\n",
      "RespiratoryDistress 0.576531605114\n",
      "ChestPain 0.20337894442\n"
     ]
    }
   ],
   "source": [
    "from scipy import spatial\n",
    "maxsim = 0\n",
    "result = ''\n",
    "for key in PV:\n",
    "    sim = 1 - spatial.distance.cosine(TV,PV[key])\n",
    "    print key,sim\n",
    "    if sim > maxsim:\n",
    "        maxsim = sim\n",
    "        result = key\n"
   ]
  },
  {
   "cell_type": "code",
   "execution_count": 20,
   "metadata": {},
   "outputs": [
    {
     "data": {
      "text/plain": [
       "'RespiratoryDistress'"
      ]
     },
     "execution_count": 20,
     "metadata": {},
     "output_type": "execute_result"
    }
   ],
   "source": [
    "result"
   ]
  },
  {
   "cell_type": "code",
   "execution_count": null,
   "metadata": {
    "collapsed": true
   },
   "outputs": [],
   "source": []
  },
  {
   "cell_type": "code",
   "execution_count": 8,
   "metadata": {},
   "outputs": [
    {
     "name": "stdout",
     "output_type": "stream",
     "text": [
      "Writing chestpain.dot/svg/png\n"
     ]
    }
   ],
   "source": []
  },
  {
   "cell_type": "code",
   "execution_count": 5,
   "metadata": {
    "collapsed": true
   },
   "outputs": [],
   "source": [
    "b = Blackboard()"
   ]
  },
  {
   "cell_type": "code",
   "execution_count": 6,
   "metadata": {},
   "outputs": [
    {
     "data": {
      "text/plain": [
       "'Aspirin'"
      ]
     },
     "execution_count": 6,
     "metadata": {},
     "output_type": "execute_result"
    }
   ],
   "source": [
    "b.action"
   ]
  },
  {
   "cell_type": "code",
   "execution_count": 7,
   "metadata": {},
   "outputs": [
    {
     "data": {
      "text/plain": [
       "'Chest Pain'"
      ]
     },
     "execution_count": 7,
     "metadata": {},
     "output_type": "execute_result"
    }
   ],
   "source": [
    "b.protocol"
   ]
  },
  {
   "cell_type": "code",
   "execution_count": 53,
   "metadata": {
    "collapsed": true
   },
   "outputs": [],
   "source": [
    "def NLP():\n",
    "    behaviour_tree.tick_tock(\n",
    "            sleep_ms=50,\n",
    "            number_of_iterations=1,\n",
    "            pre_tick_handler=None,\n",
    "       post_tick_handler=None\n",
    "        )"
   ]
  },
  {
   "cell_type": "code",
   "execution_count": 5,
   "metadata": {},
   "outputs": [
    {
     "name": "stdout",
     "output_type": "stream",
     "text": [
      "input_text:\n",
      "this is paramedic Smith we are transporting a 36 year old male complaining of shortness of breath he also complains of non radiating sharp chest pain on expiration symptoms began 1 hour ago after exercising he attempted to use his inhaler without relief he does have a history of asthma this patient was found with obvious respiratory difficulty he is awake and appropriate on exam we find lung sounds with wheezes in Upper lobes bilaterally and quiet lower lobes bilaterally initial Vital Signs BP 162 over 94 pulse 120 for \n",
      "(pain,True,of chest pain,of chest pain,1)\n",
      "(conscious,True,,awake,1)\n",
      "(gender,True,male,male,1)\n",
      "(age,True,36,year,1)\n",
      "(blood pressure,True,162/94,lower bp,1)\n",
      "(pulse,True,120,pulse,1)\n",
      "(breath,True,,wheezes,1)\n"
     ]
    },
    {
     "ename": "TypeError",
     "evalue": "SecondExtract() takes exactly 3 arguments (2 given)",
     "output_type": "error",
     "traceback": [
      "\u001b[0;31m---------------------------------------------------------------------------\u001b[0m",
      "\u001b[0;31mTypeError\u001b[0m                                 Traceback (most recent call last)",
      "\u001b[0;32m<ipython-input-5-c78c00e9a3d9>\u001b[0m in \u001b[0;36m<module>\u001b[0;34m()\u001b[0m\n\u001b[0;32m----> 1\u001b[0;31m \u001b[0mNLP\u001b[0m\u001b[0;34m(\u001b[0m\u001b[0;34m)\u001b[0m\u001b[0;34m\u001b[0m\u001b[0m\n\u001b[0m",
      "\u001b[0;32m<ipython-input-4-73d6a6e13528>\u001b[0m in \u001b[0;36mNLP\u001b[0;34m()\u001b[0m\n\u001b[1;32m      4\u001b[0m             \u001b[0mnumber_of_iterations\u001b[0m\u001b[0;34m=\u001b[0m\u001b[0;36m1\u001b[0m\u001b[0;34m,\u001b[0m\u001b[0;34m\u001b[0m\u001b[0m\n\u001b[1;32m      5\u001b[0m             \u001b[0mpre_tick_handler\u001b[0m\u001b[0;34m=\u001b[0m\u001b[0mNone\u001b[0m\u001b[0;34m,\u001b[0m\u001b[0;34m\u001b[0m\u001b[0m\n\u001b[0;32m----> 6\u001b[0;31m        \u001b[0mpost_tick_handler\u001b[0m\u001b[0;34m=\u001b[0m\u001b[0mNone\u001b[0m\u001b[0;34m\u001b[0m\u001b[0m\n\u001b[0m\u001b[1;32m      7\u001b[0m         )\n",
      "\u001b[0;32m/Users/sileshu/anaconda/lib/python2.7/site-packages/py_trees/trees.pyc\u001b[0m in \u001b[0;36mtick_tock\u001b[0;34m(self, sleep_ms, number_of_iterations, pre_tick_handler, post_tick_handler)\u001b[0m\n\u001b[1;32m    257\u001b[0m         \u001b[0mtick_tocks\u001b[0m \u001b[0;34m=\u001b[0m \u001b[0;36m0\u001b[0m\u001b[0;34m\u001b[0m\u001b[0m\n\u001b[1;32m    258\u001b[0m         \u001b[0;32mwhile\u001b[0m \u001b[0;32mnot\u001b[0m \u001b[0mself\u001b[0m\u001b[0;34m.\u001b[0m\u001b[0minterrupt_tick_tocking\u001b[0m \u001b[0;32mand\u001b[0m \u001b[0;34m(\u001b[0m\u001b[0mtick_tocks\u001b[0m \u001b[0;34m<\u001b[0m \u001b[0mnumber_of_iterations\u001b[0m \u001b[0;32mor\u001b[0m \u001b[0mnumber_of_iterations\u001b[0m \u001b[0;34m==\u001b[0m \u001b[0mCONTINUOUS_TICK_TOCK\u001b[0m\u001b[0;34m)\u001b[0m\u001b[0;34m:\u001b[0m\u001b[0;34m\u001b[0m\u001b[0m\n\u001b[0;32m--> 259\u001b[0;31m             \u001b[0mself\u001b[0m\u001b[0;34m.\u001b[0m\u001b[0mtick\u001b[0m\u001b[0;34m(\u001b[0m\u001b[0mpre_tick_handler\u001b[0m\u001b[0;34m,\u001b[0m \u001b[0mpost_tick_handler\u001b[0m\u001b[0;34m)\u001b[0m\u001b[0;34m\u001b[0m\u001b[0m\n\u001b[0m\u001b[1;32m    260\u001b[0m             \u001b[0;32mtry\u001b[0m\u001b[0;34m:\u001b[0m\u001b[0;34m\u001b[0m\u001b[0m\n\u001b[1;32m    261\u001b[0m                 \u001b[0mtime\u001b[0m\u001b[0;34m.\u001b[0m\u001b[0msleep\u001b[0m\u001b[0;34m(\u001b[0m\u001b[0msleep_ms\u001b[0m \u001b[0;34m/\u001b[0m \u001b[0;36m1000.0\u001b[0m\u001b[0;34m)\u001b[0m\u001b[0;34m\u001b[0m\u001b[0m\n",
      "\u001b[0;32m/Users/sileshu/anaconda/lib/python2.7/site-packages/py_trees/trees.pyc\u001b[0m in \u001b[0;36mtick\u001b[0;34m(self, pre_tick_handler, post_tick_handler)\u001b[0m\n\u001b[1;32m    225\u001b[0m             \u001b[0mvisitor\u001b[0m\u001b[0;34m.\u001b[0m\u001b[0minitialise\u001b[0m\u001b[0;34m(\u001b[0m\u001b[0;34m)\u001b[0m\u001b[0;34m\u001b[0m\u001b[0m\n\u001b[1;32m    226\u001b[0m         \u001b[0;31m# tick\u001b[0m\u001b[0;34m\u001b[0m\u001b[0;34m\u001b[0m\u001b[0m\n\u001b[0;32m--> 227\u001b[0;31m         \u001b[0;32mfor\u001b[0m \u001b[0mnode\u001b[0m \u001b[0;32min\u001b[0m \u001b[0mself\u001b[0m\u001b[0;34m.\u001b[0m\u001b[0mroot\u001b[0m\u001b[0;34m.\u001b[0m\u001b[0mtick\u001b[0m\u001b[0;34m(\u001b[0m\u001b[0;34m)\u001b[0m\u001b[0;34m:\u001b[0m\u001b[0;34m\u001b[0m\u001b[0m\n\u001b[0m\u001b[1;32m    228\u001b[0m             \u001b[0;32mfor\u001b[0m \u001b[0mvisitor\u001b[0m \u001b[0;32min\u001b[0m \u001b[0;34m[\u001b[0m\u001b[0mvisitor\u001b[0m \u001b[0;32mfor\u001b[0m \u001b[0mvisitor\u001b[0m \u001b[0;32min\u001b[0m \u001b[0mself\u001b[0m\u001b[0;34m.\u001b[0m\u001b[0mvisitors\u001b[0m \u001b[0;32mif\u001b[0m \u001b[0;32mnot\u001b[0m \u001b[0mvisitor\u001b[0m\u001b[0;34m.\u001b[0m\u001b[0mfull\u001b[0m\u001b[0;34m]\u001b[0m\u001b[0;34m:\u001b[0m\u001b[0;34m\u001b[0m\u001b[0m\n\u001b[1;32m    229\u001b[0m                 \u001b[0mnode\u001b[0m\u001b[0;34m.\u001b[0m\u001b[0mvisit\u001b[0m\u001b[0;34m(\u001b[0m\u001b[0mvisitor\u001b[0m\u001b[0;34m)\u001b[0m\u001b[0;34m\u001b[0m\u001b[0m\n",
      "\u001b[0;32m/Users/sileshu/anaconda/lib/python2.7/site-packages/py_trees/composites.pyc\u001b[0m in \u001b[0;36mtick\u001b[0;34m(self)\u001b[0m\n\u001b[1;32m    490\u001b[0m         \u001b[0mself\u001b[0m\u001b[0;34m.\u001b[0m\u001b[0mupdate\u001b[0m\u001b[0;34m(\u001b[0m\u001b[0;34m)\u001b[0m\u001b[0;34m\u001b[0m\u001b[0m\n\u001b[1;32m    491\u001b[0m         \u001b[0;32mfor\u001b[0m \u001b[0mchild\u001b[0m \u001b[0;32min\u001b[0m \u001b[0mitertools\u001b[0m\u001b[0;34m.\u001b[0m\u001b[0mislice\u001b[0m\u001b[0;34m(\u001b[0m\u001b[0mself\u001b[0m\u001b[0;34m.\u001b[0m\u001b[0mchildren\u001b[0m\u001b[0;34m,\u001b[0m \u001b[0mself\u001b[0m\u001b[0;34m.\u001b[0m\u001b[0mcurrent_index\u001b[0m\u001b[0;34m,\u001b[0m \u001b[0mNone\u001b[0m\u001b[0;34m)\u001b[0m\u001b[0;34m:\u001b[0m\u001b[0;34m\u001b[0m\u001b[0m\n\u001b[0;32m--> 492\u001b[0;31m             \u001b[0;32mfor\u001b[0m \u001b[0mnode\u001b[0m \u001b[0;32min\u001b[0m \u001b[0mchild\u001b[0m\u001b[0;34m.\u001b[0m\u001b[0mtick\u001b[0m\u001b[0;34m(\u001b[0m\u001b[0;34m)\u001b[0m\u001b[0;34m:\u001b[0m\u001b[0;34m\u001b[0m\u001b[0m\n\u001b[0m\u001b[1;32m    493\u001b[0m                 \u001b[0;32myield\u001b[0m \u001b[0mnode\u001b[0m\u001b[0;34m\u001b[0m\u001b[0m\n\u001b[1;32m    494\u001b[0m                 \u001b[0;32mif\u001b[0m \u001b[0mnode\u001b[0m \u001b[0;32mis\u001b[0m \u001b[0mchild\u001b[0m \u001b[0;32mand\u001b[0m \u001b[0mnode\u001b[0m\u001b[0;34m.\u001b[0m\u001b[0mstatus\u001b[0m \u001b[0;34m!=\u001b[0m \u001b[0mStatus\u001b[0m\u001b[0;34m.\u001b[0m\u001b[0mSUCCESS\u001b[0m\u001b[0;34m:\u001b[0m\u001b[0;34m\u001b[0m\u001b[0m\n",
      "\u001b[0;32m/Users/sileshu/anaconda/lib/python2.7/site-packages/py_trees/composites.pyc\u001b[0m in \u001b[0;36mtick\u001b[0;34m(self)\u001b[0m\n\u001b[1;32m    305\u001b[0m         \u001b[0mprevious\u001b[0m \u001b[0;34m=\u001b[0m \u001b[0mself\u001b[0m\u001b[0;34m.\u001b[0m\u001b[0mcurrent_child\u001b[0m\u001b[0;34m\u001b[0m\u001b[0m\n\u001b[1;32m    306\u001b[0m         \u001b[0;32mfor\u001b[0m \u001b[0mchild\u001b[0m \u001b[0;32min\u001b[0m \u001b[0mself\u001b[0m\u001b[0;34m.\u001b[0m\u001b[0mchildren\u001b[0m\u001b[0;34m:\u001b[0m\u001b[0;34m\u001b[0m\u001b[0m\n\u001b[0;32m--> 307\u001b[0;31m             \u001b[0;32mfor\u001b[0m \u001b[0mnode\u001b[0m \u001b[0;32min\u001b[0m \u001b[0mchild\u001b[0m\u001b[0;34m.\u001b[0m\u001b[0mtick\u001b[0m\u001b[0;34m(\u001b[0m\u001b[0;34m)\u001b[0m\u001b[0;34m:\u001b[0m\u001b[0;34m\u001b[0m\u001b[0m\n\u001b[0m\u001b[1;32m    308\u001b[0m                 \u001b[0;32myield\u001b[0m \u001b[0mnode\u001b[0m\u001b[0;34m\u001b[0m\u001b[0m\n\u001b[1;32m    309\u001b[0m                 \u001b[0;32mif\u001b[0m \u001b[0mnode\u001b[0m \u001b[0;32mis\u001b[0m \u001b[0mchild\u001b[0m\u001b[0;34m:\u001b[0m\u001b[0;34m\u001b[0m\u001b[0m\n",
      "\u001b[0;32m/Users/sileshu/anaconda/lib/python2.7/site-packages/py_trees/composites.pyc\u001b[0m in \u001b[0;36mtick\u001b[0;34m(self)\u001b[0m\n\u001b[1;32m    490\u001b[0m         \u001b[0mself\u001b[0m\u001b[0;34m.\u001b[0m\u001b[0mupdate\u001b[0m\u001b[0;34m(\u001b[0m\u001b[0;34m)\u001b[0m\u001b[0;34m\u001b[0m\u001b[0m\n\u001b[1;32m    491\u001b[0m         \u001b[0;32mfor\u001b[0m \u001b[0mchild\u001b[0m \u001b[0;32min\u001b[0m \u001b[0mitertools\u001b[0m\u001b[0;34m.\u001b[0m\u001b[0mislice\u001b[0m\u001b[0;34m(\u001b[0m\u001b[0mself\u001b[0m\u001b[0;34m.\u001b[0m\u001b[0mchildren\u001b[0m\u001b[0;34m,\u001b[0m \u001b[0mself\u001b[0m\u001b[0;34m.\u001b[0m\u001b[0mcurrent_index\u001b[0m\u001b[0;34m,\u001b[0m \u001b[0mNone\u001b[0m\u001b[0;34m)\u001b[0m\u001b[0;34m:\u001b[0m\u001b[0;34m\u001b[0m\u001b[0m\n\u001b[0;32m--> 492\u001b[0;31m             \u001b[0;32mfor\u001b[0m \u001b[0mnode\u001b[0m \u001b[0;32min\u001b[0m \u001b[0mchild\u001b[0m\u001b[0;34m.\u001b[0m\u001b[0mtick\u001b[0m\u001b[0;34m(\u001b[0m\u001b[0;34m)\u001b[0m\u001b[0;34m:\u001b[0m\u001b[0;34m\u001b[0m\u001b[0m\n\u001b[0m\u001b[1;32m    493\u001b[0m                 \u001b[0;32myield\u001b[0m \u001b[0mnode\u001b[0m\u001b[0;34m\u001b[0m\u001b[0m\n\u001b[1;32m    494\u001b[0m                 \u001b[0;32mif\u001b[0m \u001b[0mnode\u001b[0m \u001b[0;32mis\u001b[0m \u001b[0mchild\u001b[0m \u001b[0;32mand\u001b[0m \u001b[0mnode\u001b[0m\u001b[0;34m.\u001b[0m\u001b[0mstatus\u001b[0m \u001b[0;34m!=\u001b[0m \u001b[0mStatus\u001b[0m\u001b[0;34m.\u001b[0m\u001b[0mSUCCESS\u001b[0m\u001b[0;34m:\u001b[0m\u001b[0;34m\u001b[0m\u001b[0m\n",
      "\u001b[0;32m/Users/sileshu/anaconda/lib/python2.7/site-packages/py_trees/behaviour.pyc\u001b[0m in \u001b[0;36mtick\u001b[0;34m(self)\u001b[0m\n\u001b[1;32m    244\u001b[0m             \u001b[0mself\u001b[0m\u001b[0;34m.\u001b[0m\u001b[0minitialise\u001b[0m\u001b[0;34m(\u001b[0m\u001b[0;34m)\u001b[0m\u001b[0;34m\u001b[0m\u001b[0m\n\u001b[1;32m    245\u001b[0m         \u001b[0;31m# don't set self.status yet, terminate() may need to check what the current state is first\u001b[0m\u001b[0;34m\u001b[0m\u001b[0;34m\u001b[0m\u001b[0m\n\u001b[0;32m--> 246\u001b[0;31m         \u001b[0mnew_status\u001b[0m \u001b[0;34m=\u001b[0m \u001b[0mself\u001b[0m\u001b[0;34m.\u001b[0m\u001b[0mupdate\u001b[0m\u001b[0;34m(\u001b[0m\u001b[0;34m)\u001b[0m\u001b[0;34m\u001b[0m\u001b[0m\n\u001b[0m\u001b[1;32m    247\u001b[0m         \u001b[0;32mif\u001b[0m \u001b[0mnew_status\u001b[0m \u001b[0;32mnot\u001b[0m \u001b[0;32min\u001b[0m \u001b[0mlist\u001b[0m\u001b[0;34m(\u001b[0m\u001b[0mStatus\u001b[0m\u001b[0;34m)\u001b[0m\u001b[0;34m:\u001b[0m\u001b[0;34m\u001b[0m\u001b[0m\n\u001b[1;32m    248\u001b[0m             \u001b[0mself\u001b[0m\u001b[0;34m.\u001b[0m\u001b[0mlogger\u001b[0m\u001b[0;34m.\u001b[0m\u001b[0merror\u001b[0m\u001b[0;34m(\u001b[0m\u001b[0;34m\"A behaviour returned an invalid status, setting to INVALID [%s][%s]\"\u001b[0m \u001b[0;34m%\u001b[0m \u001b[0;34m(\u001b[0m\u001b[0mnew_status\u001b[0m\u001b[0;34m,\u001b[0m \u001b[0mself\u001b[0m\u001b[0;34m.\u001b[0m\u001b[0mname\u001b[0m\u001b[0;34m)\u001b[0m\u001b[0;34m)\u001b[0m\u001b[0;34m\u001b[0m\u001b[0m\n",
      "\u001b[0;32m/Users/sileshu/Desktop/BT/behaviours.pyc\u001b[0m in \u001b[0;36mupdate\u001b[0;34m(self)\u001b[0m\n\u001b[1;32m    115\u001b[0m         \u001b[0mblackboard\u001b[0m \u001b[0;34m=\u001b[0m \u001b[0mBlackboard\u001b[0m\u001b[0;34m(\u001b[0m\u001b[0;34m)\u001b[0m\u001b[0;34m\u001b[0m\u001b[0m\n\u001b[1;32m    116\u001b[0m         \u001b[0mself\u001b[0m\u001b[0;34m.\u001b[0m\u001b[0mce\u001b[0m\u001b[0;34m.\u001b[0m\u001b[0mconcepts\u001b[0m \u001b[0;34m=\u001b[0m \u001b[0mblackboard\u001b[0m\u001b[0;34m.\u001b[0m\u001b[0mconcepts\u001b[0m\u001b[0;34m\u001b[0m\u001b[0m\n\u001b[0;32m--> 117\u001b[0;31m         \u001b[0mself\u001b[0m\u001b[0;34m.\u001b[0m\u001b[0mce\u001b[0m\u001b[0;34m.\u001b[0m\u001b[0mSecondExtract\u001b[0m\u001b[0;34m(\u001b[0m\u001b[0mblackboard\u001b[0m\u001b[0;34m.\u001b[0m\u001b[0mtext\u001b[0m\u001b[0;34m)\u001b[0m\u001b[0;34m\u001b[0m\u001b[0m\n\u001b[0m\u001b[1;32m    118\u001b[0m         \u001b[0mblackboard\u001b[0m\u001b[0;34m.\u001b[0m\u001b[0mBLSCPR_Status\u001b[0m \u001b[0;34m=\u001b[0m \u001b[0mself\u001b[0m\u001b[0;34m.\u001b[0m\u001b[0mce\u001b[0m\u001b[0;34m.\u001b[0m\u001b[0mStatus\u001b[0m\u001b[0;34m\u001b[0m\u001b[0m\n\u001b[1;32m    119\u001b[0m         \u001b[0;32mif\u001b[0m \u001b[0mblackboard\u001b[0m\u001b[0;34m.\u001b[0m\u001b[0mstatus1\u001b[0m\u001b[0;34m[\u001b[0m\u001b[0;34m'pulse'\u001b[0m\u001b[0;34m]\u001b[0m\u001b[0;34m.\u001b[0m\u001b[0mbinary\u001b[0m \u001b[0;34m==\u001b[0m \u001b[0mFalse\u001b[0m \u001b[0;32mand\u001b[0m\u001b[0;31m \u001b[0m\u001b[0;31m\\\u001b[0m\u001b[0;34m\u001b[0m\u001b[0m\n",
      "\u001b[0;31mTypeError\u001b[0m: SecondExtract() takes exactly 3 arguments (2 given)"
     ]
    }
   ],
   "source": [
    "NLP()"
   ]
  },
  {
   "cell_type": "code",
   "execution_count": 14,
   "metadata": {},
   "outputs": [
    {
     "data": {
      "text/plain": [
       "{'age': <ConceptExtract.PatientStatus at 0x114548ed0>,\n",
       " 'bleed': <ConceptExtract.PatientStatus at 0x11458bdd0>,\n",
       " 'blood glucose': <ConceptExtract.PatientStatus at 0x114548f90>,\n",
       " 'blood pressure': <ConceptExtract.PatientStatus at 0x114548f50>,\n",
       " 'breath': <ConceptExtract.PatientStatus at 0x114548e50>,\n",
       " 'conscious': <ConceptExtract.PatientStatus at 0x114548310>,\n",
       " 'etco2': <ConceptExtract.PatientStatus at 0x11458be10>,\n",
       " 'gender': <ConceptExtract.PatientStatus at 0x114548f10>,\n",
       " 'heart rate': <ConceptExtract.PatientStatus at 0x11458bf10>,\n",
       " 'pain': <ConceptExtract.PatientStatus at 0x114548fd0>,\n",
       " 'pulse': <ConceptExtract.PatientStatus at 0x114548250>,\n",
       " 'spo2': <ConceptExtract.PatientStatus at 0x11458bd90>,\n",
       " 'wound': <ConceptExtract.PatientStatus at 0x114548550>}"
      ]
     },
     "execution_count": 14,
     "metadata": {},
     "output_type": "execute_result"
    }
   ],
   "source": [
    "b.status1\n"
   ]
  },
  {
   "cell_type": "code",
   "execution_count": 31,
   "metadata": {
    "collapsed": true
   },
   "outputs": [],
   "source": [
    "import re"
   ]
  },
  {
   "cell_type": "code",
   "execution_count": 67,
   "metadata": {
    "collapsed": true
   },
   "outputs": [],
   "source": [
    "a = \"-1384skjfdsijadlfksj\"\n",
    "v = re.findall('^-*[0-9]*',a)[0]"
   ]
  },
  {
   "cell_type": "code",
   "execution_count": 65,
   "metadata": {},
   "outputs": [
    {
     "name": "stdout",
     "output_type": "stream",
     "text": [
      "-1384\n"
     ]
    }
   ],
   "source": [
    "print v"
   ]
  },
  {
   "cell_type": "code",
   "execution_count": 21,
   "metadata": {
    "collapsed": true
   },
   "outputs": [],
   "source": [
    "import pandas as pd"
   ]
  },
  {
   "cell_type": "code",
   "execution_count": 33,
   "metadata": {},
   "outputs": [
    {
     "ename": "AttributeError",
     "evalue": "'str' object has no attribute 'type'",
     "output_type": "error",
     "traceback": [
      "\u001b[0;31m---------------------------------------------------------------------------\u001b[0m",
      "\u001b[0;31mAttributeError\u001b[0m                            Traceback (most recent call last)",
      "\u001b[0;32m<ipython-input-33-b6aa451e5767>\u001b[0m in \u001b[0;36m<module>\u001b[0;34m()\u001b[0m\n\u001b[1;32m      3\u001b[0m \u001b[0mCUI2Concept\u001b[0m \u001b[0;34m=\u001b[0m \u001b[0;34m{\u001b[0m\u001b[0;34m}\u001b[0m\u001b[0;34m\u001b[0m\u001b[0m\n\u001b[1;32m      4\u001b[0m \u001b[0;32mfor\u001b[0m \u001b[0midx\u001b[0m\u001b[0;34m,\u001b[0m\u001b[0mitem\u001b[0m \u001b[0;32min\u001b[0m \u001b[0menumerate\u001b[0m\u001b[0;34m(\u001b[0m\u001b[0mextended_concept_list\u001b[0m\u001b[0;34m[\u001b[0m\u001b[0;34m'Required Concept'\u001b[0m\u001b[0;34m]\u001b[0m\u001b[0;34m)\u001b[0m\u001b[0;34m:\u001b[0m\u001b[0;34m\u001b[0m\u001b[0m\n\u001b[0;32m----> 5\u001b[0;31m     \u001b[0;32mprint\u001b[0m \u001b[0mitem\u001b[0m\u001b[0;34m.\u001b[0m\u001b[0mtype\u001b[0m\u001b[0;34m(\u001b[0m\u001b[0;34m)\u001b[0m\u001b[0;34m\u001b[0m\u001b[0m\n\u001b[0m\u001b[1;32m      6\u001b[0m     \u001b[0;32mif\u001b[0m \u001b[0mitem\u001b[0m \u001b[0;34m>\u001b[0m \u001b[0;36m0\u001b[0m\u001b[0;34m:\u001b[0m\u001b[0;34m\u001b[0m\u001b[0m\n\u001b[1;32m      7\u001b[0m         \u001b[0mtemp\u001b[0m \u001b[0;34m=\u001b[0m \u001b[0mitem\u001b[0m\u001b[0;34m\u001b[0m\u001b[0m\n",
      "\u001b[0;31mAttributeError\u001b[0m: 'str' object has no attribute 'type'"
     ]
    }
   ],
   "source": [
    "extended_concept_list = pd.read_csv(\"Concept_List_1.csv\")\n",
    "CUIs = [item for item in extended_concept_list['CUI']]\n",
    "CUI2Concept = {}\n",
    "for idx,item in enumerate(extended_concept_list['Required Concept']):\n",
    "    if item > 0:\n",
    "        temp = item\n",
    "        CUI2Concept[CUIs[idx]] = temp.lower()\n",
    "    else:\n",
    "        CUI2Concept[CUIs[idx]] = temp.lower()"
   ]
  },
  {
   "cell_type": "code",
   "execution_count": 29,
   "metadata": {},
   "outputs": [
    {
     "data": {
      "text/plain": [
       "{'C0000737': 'pain',\n",
       " 'C0000925': 'wound',\n",
       " 'C0001578': 'age',\n",
       " 'C0001675': 'age',\n",
       " 'C0001779': 'age',\n",
       " 'C0002766': 'pain',\n",
       " 'C0002771': 'pain',\n",
       " 'C0002962': 'pain',\n",
       " 'C0003578': 'breath',\n",
       " 'C0003794': 'wound',\n",
       " 'C0003862': 'pain',\n",
       " 'C0004048': 'breath',\n",
       " 'C0004604': 'pain',\n",
       " 'C0004699': 'wound',\n",
       " 'C0005658': 'wound',\n",
       " 'C0005767': 'bleed',\n",
       " 'C0005802': 'blood glucose',\n",
       " 'C0005803': 'blood glucose',\n",
       " 'C0005823': 'blood pressure',\n",
       " 'C0005824': 'blood pressure',\n",
       " 'C0005826': 'blood pressure',\n",
       " 'C0006138': 'pain',\n",
       " 'C0006434': 'wound',\n",
       " 'C0007462': 'pain',\n",
       " 'C0007667': 'age',\n",
       " 'C0007859': 'pain',\n",
       " 'C0008031': 'pain',\n",
       " 'C0008033': 'pain',\n",
       " 'C0008059': 'age',\n",
       " 'C0008100': 'age',\n",
       " 'C0009193': 'pain',\n",
       " 'C0009791': 'conscious',\n",
       " 'C0009938': 'wound',\n",
       " 'C0013390': 'pain',\n",
       " 'C0013404': 'breath',\n",
       " 'C0013428': 'pain',\n",
       " 'C0013456': 'pain',\n",
       " 'C0014591': 'bleed',\n",
       " 'C0015402': 'bleed',\n",
       " 'C0015408': 'wound',\n",
       " 'C0015459': 'wound',\n",
       " 'C0015468': 'pain',\n",
       " 'C0016199': 'pain',\n",
       " 'C0016512': 'pain',\n",
       " 'C0017249': 'gender',\n",
       " 'C0017253': 'gender',\n",
       " 'C0017594': 'conscious',\n",
       " 'C0017672': 'pain',\n",
       " 'C0018571': 'wound',\n",
       " 'C0018681': 'pain',\n",
       " 'C0018810': 'heart rate',\n",
       " 'C0018811': 'heart rate',\n",
       " 'C0018924': 'bleed',\n",
       " 'C0019065': 'bleed',\n",
       " 'C0019080': 'bleed',\n",
       " 'C0019559': 'pain',\n",
       " 'C0020456': 'blood glucose',\n",
       " 'C0020578': 'breath',\n",
       " 'C0020615': 'blood glucose',\n",
       " 'C0020649': 'blood pressure',\n",
       " 'C0023222': 'pain',\n",
       " 'C0024031': 'pain',\n",
       " 'C0024902': 'pain',\n",
       " 'C0025874': 'bleed',\n",
       " 'C0026771': 'wound',\n",
       " 'C0026858': 'pain',\n",
       " 'C0027796': 'pain',\n",
       " 'C0028246': 'pain',\n",
       " 'C0030193': 'pain',\n",
       " 'C0030196': 'pain',\n",
       " 'C0030198': 'pain',\n",
       " 'C0030200': 'pain',\n",
       " 'C0030201': 'pain',\n",
       " 'C0030794': 'pain',\n",
       " 'C0031315': 'pain',\n",
       " 'C0033119': 'wound',\n",
       " 'C0034108': 'spo2',\n",
       " 'C0034886': 'pain',\n",
       " 'C0035203': 'breath',\n",
       " 'C0035230': 'breath',\n",
       " 'C0035234': 'breath',\n",
       " 'C0036866': 'gender',\n",
       " 'C0036891': 'gender',\n",
       " 'C0037011': 'pain',\n",
       " 'C0039231': 'heart rate',\n",
       " 'C0039591': 'pain',\n",
       " 'C0039980': 'wound',\n",
       " 'C0040460': 'pain',\n",
       " 'C0040656': 'spo2',\n",
       " 'C0040997': 'pain',\n",
       " 'C0041657': 'conscious',\n",
       " 'C0042255': 'wound',\n",
       " 'C0042815': 'pain',\n",
       " 'C0043144': 'breath',\n",
       " 'C0043210': 'gender',\n",
       " 'C0043240': 'wound',\n",
       " 'C0043241': 'wound',\n",
       " 'C0043242': 'wound',\n",
       " 'C0043250': 'wound',\n",
       " 'C0043251': 'wound',\n",
       " 'C0043252': 'wound',\n",
       " 'C0043264': 'wound',\n",
       " 'C0079399': 'gender',\n",
       " 'C0085625': 'pain',\n",
       " 'C0086287': 'gender',\n",
       " 'C0086582': 'gender',\n",
       " 'C0149697': 'wound',\n",
       " 'C0149738': 'pain',\n",
       " 'C0150055': 'pain',\n",
       " 'C0151824': 'pain',\n",
       " 'C0151825': 'pain',\n",
       " 'C0151826': 'pain',\n",
       " 'C0151827': 'pain',\n",
       " 'C0151830': 'pain',\n",
       " 'C0178694': 'age',\n",
       " 'C0180847': 'heart rate',\n",
       " 'C0181140': 'heart rate',\n",
       " 'C0181141': 'heart rate',\n",
       " 'C0181142': 'heart rate',\n",
       " 'C0182109': 'spo2',\n",
       " 'C0199637': 'heart rate',\n",
       " 'C0205906': 'gender',\n",
       " 'C0225386': 'breath',\n",
       " 'C0229994': 'conscious',\n",
       " 'C0231338': 'age',\n",
       " 'C0231795': 'breath',\n",
       " 'C0231800': 'breath',\n",
       " 'C0231832': 'breath',\n",
       " 'C0232117': 'pulse',\n",
       " 'C0232189': 'heart rate',\n",
       " 'C0234225': 'pain',\n",
       " 'C0234421': 'conscious',\n",
       " 'C0234422': 'conscious',\n",
       " 'C0234425': 'conscious',\n",
       " 'C0234428': 'conscious',\n",
       " 'C0236095': 'heart rate',\n",
       " 'C0236460': 'blood glucose',\n",
       " 'C0237161': 'conscious',\n",
       " 'C0237314': 'heart rate',\n",
       " 'C0237315': 'heart rate',\n",
       " 'C0237316': 'heart rate',\n",
       " 'C0239110': 'conscious',\n",
       " 'C0242360': 'gender',\n",
       " 'C0265031': 'bleed',\n",
       " 'C0271412': 'bleed',\n",
       " 'C0277899': 'pulse',\n",
       " 'C0281789': 'bleed',\n",
       " 'C0282206': 'gender',\n",
       " 'C0302142': 'wound',\n",
       " 'C0376529': 'etco2',\n",
       " 'C0391850': 'pulse',\n",
       " 'C0392201': 'blood glucose',\n",
       " 'C0419170': 'heart rate',\n",
       " 'C0419432': 'age',\n",
       " 'C0424523': 'conscious',\n",
       " 'C0424532': 'conscious',\n",
       " 'C0426274': 'heart rate',\n",
       " 'C0426474': 'bleed',\n",
       " 'C0428179': 'spo2',\n",
       " 'C0428554': 'blood glucose',\n",
       " 'C0428566': 'blood glucose',\n",
       " 'C0428567': 'blood glucose',\n",
       " 'C0428568': 'blood glucose',\n",
       " 'C0428569': 'blood glucose',\n",
       " 'C0428658': 'etco2',\n",
       " 'C0428664': 'etco2',\n",
       " 'C0428977': 'heart rate',\n",
       " 'C0429477': 'heart rate',\n",
       " 'C0429478': 'heart rate',\n",
       " 'C0429480': 'heart rate',\n",
       " 'C0430030': 'blood glucose',\n",
       " 'C0430031': 'blood glucose',\n",
       " 'C0430032': 'blood glucose',\n",
       " 'C0433122': 'wound',\n",
       " 'C0439234': 'age',\n",
       " 'C0439508': 'age',\n",
       " 'C0456222': 'spo2',\n",
       " 'C0456384': 'conscious',\n",
       " 'C0457578': 'blood glucose',\n",
       " 'C0458241': 'spo2',\n",
       " 'C0462900': 'blood glucose',\n",
       " 'C0472226': 'blood glucose',\n",
       " 'C0472227': 'blood glucose',\n",
       " 'C0472230': 'blood glucose',\n",
       " 'C0476289': 'pain',\n",
       " 'C0488794': 'heart rate',\n",
       " 'C0488798': 'heart rate',\n",
       " 'C0495706': 'blood glucose',\n",
       " 'C0513686': 'spo2',\n",
       " 'C0517960': 'conscious',\n",
       " 'C0518090': 'pain',\n",
       " 'C0521346': 'breath',\n",
       " 'C0523807': 'spo2',\n",
       " 'C0542276': 'etco2',\n",
       " 'C0549249': 'conscious',\n",
       " 'C0549348': 'blood glucose',\n",
       " 'C0576995': 'bleed',\n",
       " 'C0580545': 'blood glucose',\n",
       " 'C0580546': 'blood glucose',\n",
       " 'C0595310': 'blood glucose',\n",
       " 'C0595312': 'blood glucose',\n",
       " 'C0595877': 'blood glucose',\n",
       " 'C0595883': 'blood glucose',\n",
       " 'C0596727': 'age',\n",
       " 'C0596728': 'age',\n",
       " 'C0596947': 'age',\n",
       " 'C0597696': 'age',\n",
       " 'C0679009': 'conscious',\n",
       " 'C0679961': 'gender',\n",
       " 'C0683640': 'gender',\n",
       " 'C0686346': 'gender',\n",
       " 'C0725150': 'blood glucose',\n",
       " 'C0746961': 'spo2',\n",
       " 'C0751699': 'conscious',\n",
       " 'C0852312': 'gender',\n",
       " 'C0852710': 'spo2',\n",
       " 'C0853673': 'spo2',\n",
       " 'C0853674': 'spo2',\n",
       " 'C0871320': 'conscious',\n",
       " 'C0994593': 'spo2',\n",
       " 'C0999881': 'spo2',\n",
       " 'C1160636': 'breath',\n",
       " 'C1271088': 'gender',\n",
       " 'C1271089': 'gender',\n",
       " 'C1271104': 'blood pressure',\n",
       " 'C1287419': 'gender',\n",
       " 'C1287726': 'pulse',\n",
       " 'C1298690': 'spo2',\n",
       " 'C1314691': 'heart rate',\n",
       " 'C1318118': 'spo2',\n",
       " 'C1522384': 'gender',\n",
       " 'C1549543': 'pain',\n",
       " 'C1550327': 'gender',\n",
       " 'C1553538': 'gender',\n",
       " 'C1557397': 'pain',\n",
       " 'C1610024': 'etco2',\n",
       " 'C1610575': 'etco2',\n",
       " 'C1648826': 'age',\n",
       " 'C1705497': 'gender',\n",
       " 'C1706180': 'gender',\n",
       " 'C1706730': 'age',\n",
       " 'C1707381': 'age',\n",
       " 'C1708738': 'pulse',\n",
       " 'C1710069': 'gender',\n",
       " 'C1837668': 'heart rate',\n",
       " 'C1882272': 'pain',\n",
       " 'C1882997': 'conscious',\n",
       " 'C1947910': 'pulse',\n",
       " 'C1961840': 'conscious',\n",
       " 'C1968780': 'heart rate',\n",
       " 'C1998154': 'conscious',\n",
       " 'C2041121': 'heart rate',\n",
       " 'C2051416': 'conscious',\n",
       " 'C2066409': 'heart rate',\n",
       " 'C2197023': 'heart rate',\n",
       " 'C2219713': 'age',\n",
       " 'C2317096': 'spo2',\n",
       " 'C2367761': 'pain',\n",
       " 'C2367762': 'pain',\n",
       " 'C2598155': 'pain',\n",
       " 'C2707301': 'pain',\n",
       " 'C2707302': 'pain',\n",
       " 'C2984058': 'pain',\n",
       " 'C3151367': 'heart rate',\n",
       " 'C3175322': 'heart rate',\n",
       " 'C3263227': 'heart rate',\n",
       " 'C3263722': 'wound',\n",
       " 'C3263723': 'wound',\n",
       " 'C3665546': 'conscious',\n",
       " 'C3714660': 'wound',\n",
       " 'C3839079': 'gender',\n",
       " 'C3839293': 'gender',\n",
       " 'C3840764': 'etco2',\n",
       " 'C3841576': 'etco2',\n",
       " 'C3841578': 'etco2',\n",
       " 'C3843802': 'age',\n",
       " 'C3843803': 'age',\n",
       " 'C3843804': 'age',\n",
       " 'C3843805': 'age',\n",
       " 'C3843806': 'age',\n",
       " 'C3843807': 'age',\n",
       " 'C3845990': 'heart rate',\n",
       " 'C3854125': 'gender',\n",
       " 'C3862532': 'age',\n",
       " 'C3891813': 'pain',\n",
       " 'C4035139': 'age',\n",
       " 'C4035745': 'age',\n",
       " 'C4035746': 'age',\n",
       " 'C4035747': 'age',\n",
       " 'C4035748': 'age',\n",
       " 'C4035749': 'age',\n",
       " 'C4035750': 'age',\n",
       " 'C4035751': 'age',\n",
       " 'C4035752': 'age',\n",
       " 'C4035753': 'age',\n",
       " 'C4035754': 'age',\n",
       " 'C4035755': 'age',\n",
       " 'C4035756': 'age',\n",
       " 'C4036097': 'heart rate',\n",
       " 'C4036098': 'heart rate',\n",
       " 'C4050153': 'pain',\n",
       " 'C4085210': 'pain',\n",
       " 'C4085211': 'pain',\n",
       " 'C4085212': 'pain',\n",
       " 'C4162933': 'spo2',\n",
       " 'C4304484': 'etco2',\n",
       " 'C4489337': 'pain',\n",
       " 'C4489338': 'pain',\n",
       " 'C4489339': 'pain',\n",
       " 'C4489692': 'pain',\n",
       " 'C4518119': 'etco2',\n",
       " 'C4521576': 'pain'}"
      ]
     },
     "execution_count": 29,
     "metadata": {},
     "output_type": "execute_result"
    }
   ],
   "source": [
    "CUI2Concept"
   ]
  },
  {
   "cell_type": "code",
   "execution_count": 1,
   "metadata": {
    "collapsed": true
   },
   "outputs": [],
   "source": [
    "from search_term import search_term"
   ]
  },
  {
   "cell_type": "code",
   "execution_count": 18,
   "metadata": {
    "collapsed": true
   },
   "outputs": [],
   "source": [
    "a = search_term('violent',check = True)"
   ]
  },
  {
   "cell_type": "code",
   "execution_count": 19,
   "metadata": {},
   "outputs": [
    {
     "data": {
      "text/plain": [
       "[(u'C0242151', u'Violent'),\n",
       " (u'C0232603', u'Violent retching'),\n",
       " (u'C0235099', u'Violent thoughts'),\n",
       " (u'C0237234', u'violent environment'),\n",
       " (u'C0282376', u'Assaultive Behavior'),\n",
       " (u'C0424323', u'Physical aggression'),\n",
       " (u'C0425151', u'Violent spouse'),\n",
       " (u'C0680472', u'Violent Crime'),\n",
       " (u'C1096573', u'Violent dreams'),\n",
       " (u'C1868823', u'Violent ideation'),\n",
       " (u'C2136263', u'violent event'),\n",
       " (u'C3671973', u'Violent sneezing'),\n",
       " (u'C4062071', u'Violent relationship'),\n",
       " (u'C0001807', u'Aggressive behavior'),\n",
       " (u'C0040488', u'Torture'),\n",
       " (u'C0233558', u'Temper tantrum'),\n",
       " (u'C0424241', u'Violent motor activity'),\n",
       " (u'C0680471', u'violent and nonviolent crime'),\n",
       " (u'C0683660', u'violent crime and behavior'),\n",
       " (u'C0741456', u'BEHAVIOR VIOLENT TOWARD SELF'),\n",
       " (u'C1303202', u'Violent acts towards others'),\n",
       " (u'C1397151', u'violent; behavior, family history'),\n",
       " (u'C1822562', u'Control of violent content in the media'),\n",
       " (u'C1827876', u'Victim of violent environment'),\n",
       " (u'C2051648', u'patient observed being violent'),\n",
       " (u'C2115874', u'preoccupation with violent thoughts'),\n",
       " (u'C2128837', u'violent behavior with objects'),\n",
       " (u'C2128838', u'violent behavior with a weapon'),\n",
       " (u'C2136351', u'violent traumatic event as adult'),\n",
       " (u'C2136352', u'witness to violent trauma'),\n",
       " (u'C2136353', u'witness to military warfare'),\n",
       " (u'C2136355', u'witness to violent trauma accident'),\n",
       " (u'C2169611', u'recent victim of carjacking'),\n",
       " (u'C2169612', u'Recent victim of kidnapping'),\n",
       " (u'C2169613', u'recent violent traumatic event'),\n",
       " (u'C2169636', u'recently mugged (history)'),\n",
       " (u'C2188169', u'violent unexpected death of patient'),\n",
       " (u'C2189665', u'violent and prolonged vomiting'),\n",
       " (u'C2874327', u'Vascular dementia with violent behavior'),\n",
       " (u'C3161186', u'Dementia, with violent behavior'),\n",
       " (u'C3263952', u'Unspecified dementia with violent behavior'),\n",
       " (u'C3267029', u'Exposure to violent event'),\n",
       " (u'C4061697', u'Witnessing violent death'),\n",
       " (u'C0515500',\n",
       "  u'Remove other individuals from the vicinity of a violent or potentially violent patient'),\n",
       " (u'C0416360', u'Accident to balloon with violent impact on landing'),\n",
       " (u'C1822569', u'Strategies to control violent content in the media'),\n",
       " (u'C2020638', u'stress associated with recent violent traumatic event'),\n",
       " (u'C2078974', u'involuntary movements during sleep which are violent'),\n",
       " (u'C2135349', u'recently experienced terrorist attack (history)'),\n",
       " (u'C2136075', u'fear resulting from violent traumatic event')]"
      ]
     },
     "execution_count": 19,
     "metadata": {},
     "output_type": "execute_result"
    }
   ],
   "source": [
    "a"
   ]
  },
  {
   "cell_type": "code",
   "execution_count": 32,
   "metadata": {},
   "outputs": [
    {
     "name": "stdout",
     "output_type": "stream",
     "text": [
      "int\n"
     ]
    }
   ],
   "source": [
    "print u'int'"
   ]
  },
  {
   "cell_type": "code",
   "execution_count": null,
   "metadata": {
    "collapsed": true
   },
   "outputs": [],
   "source": []
  }
 ],
 "metadata": {
  "kernelspec": {
   "display_name": "Python 2",
   "language": "python",
   "name": "python2"
  },
  "language_info": {
   "codemirror_mode": {
    "name": "ipython",
    "version": 2
   },
   "file_extension": ".py",
   "mimetype": "text/x-python",
   "name": "python",
   "nbconvert_exporter": "python",
   "pygments_lexer": "ipython2",
   "version": "2.7.13"
  }
 },
 "nbformat": 4,
 "nbformat_minor": 2
}
